{
 "cells": [
  {
   "cell_type": "markdown",
   "id": "4cb511bb",
   "metadata": {},
   "source": [
    "# EDA do dataset do VLabs Challenge\n",
    "\n",
    "Esse notebook compreende a análise exploratória dos dados do desafio VLabs, promovido pela Viságio. O desafio consiste em um modelo preditivo que realiza uma tarefa de regressão para responder à seguinte pergunta:\n",
    "\n",
    "*Qual a previsão de LTV (Lifetime Value) do cliente para os próximos 90 dias?*"
   ]
  },
  {
   "cell_type": "markdown",
   "id": "b1d34202",
   "metadata": {},
   "source": [
    "# Importar pacotes"
   ]
  },
  {
   "cell_type": "code",
   "execution_count": 1,
   "id": "7f0dec0a",
   "metadata": {},
   "outputs": [],
   "source": [
    "import pandas as pd\n",
    "import numpy as np\n",
    "import matplotlib.pyplot as plt\n",
    "import seaborn as sns\n",
    "from sklearn.pipeline import Pipeline, make_pipeline\n",
    "from sklearn.preprocessing import FunctionTransformer"
   ]
  },
  {
   "cell_type": "code",
   "execution_count": 2,
   "id": "7b18a4cb",
   "metadata": {},
   "outputs": [],
   "source": [
    "#aaaaand a nice setup for graphics cause why not\n",
    "#blue and salmon\n",
    "sns.set(font = 'Serif', style = 'white', rc = {'axes.facecolor':'#f1f1f1', 'figure.facecolor':'#f1f1f1'})"
   ]
  },
  {
   "cell_type": "markdown",
   "id": "fc66838a",
   "metadata": {},
   "source": [
    "# Carregar os dados"
   ]
  },
  {
   "cell_type": "code",
   "execution_count": 3,
   "id": "331ebe64",
   "metadata": {},
   "outputs": [],
   "source": [
    "df = pd.read_csv('C:/Users/ticom/VLabs/Data/sales_20_21_train.csv', header=0,)\n",
    "df_sub = pd.read_csv('C:/Users/ticom/VLabs/Data/sample_submission.csv',header=0)"
   ]
  },
  {
   "cell_type": "markdown",
   "id": "44b700e5",
   "metadata": {},
   "source": [
    "## Pré-visualizar"
   ]
  },
  {
   "cell_type": "code",
   "execution_count": 4,
   "id": "302e655f",
   "metadata": {},
   "outputs": [
    {
     "name": "stdout",
     "output_type": "stream",
     "text": [
      " Dimensões do dataset de treino: \n",
      "                             Linhas: 1630612       \n",
      "                             Colunas: 7\n",
      "Primeiras linhas:\n"
     ]
    },
    {
     "data": {
      "text/html": [
       "<div>\n",
       "<style scoped>\n",
       "    .dataframe tbody tr th:only-of-type {\n",
       "        vertical-align: middle;\n",
       "    }\n",
       "\n",
       "    .dataframe tbody tr th {\n",
       "        vertical-align: top;\n",
       "    }\n",
       "\n",
       "    .dataframe thead th {\n",
       "        text-align: right;\n",
       "    }\n",
       "</style>\n",
       "<table border=\"1\" class=\"dataframe\">\n",
       "  <thead>\n",
       "    <tr style=\"text-align: right;\">\n",
       "      <th></th>\n",
       "      <th>ID_VENDA</th>\n",
       "      <th>DT_VENDA</th>\n",
       "      <th>LOJA</th>\n",
       "      <th>QTD_SKU</th>\n",
       "      <th>VALOR</th>\n",
       "      <th>ID_CLIENTE</th>\n",
       "      <th>CANAL</th>\n",
       "    </tr>\n",
       "  </thead>\n",
       "  <tbody>\n",
       "    <tr>\n",
       "      <th>0</th>\n",
       "      <td>1176550</td>\n",
       "      <td>2020-01-02</td>\n",
       "      <td>37</td>\n",
       "      <td>1</td>\n",
       "      <td>9.50</td>\n",
       "      <td>337763</td>\n",
       "      <td>FIS</td>\n",
       "    </tr>\n",
       "    <tr>\n",
       "      <th>1</th>\n",
       "      <td>11683461</td>\n",
       "      <td>2020-01-02</td>\n",
       "      <td>15</td>\n",
       "      <td>1</td>\n",
       "      <td>6.64</td>\n",
       "      <td>195687</td>\n",
       "      <td>FIS</td>\n",
       "    </tr>\n",
       "    <tr>\n",
       "      <th>2</th>\n",
       "      <td>3326484</td>\n",
       "      <td>2020-01-02</td>\n",
       "      <td>29</td>\n",
       "      <td>5</td>\n",
       "      <td>446.87</td>\n",
       "      <td>56059</td>\n",
       "      <td>FIS</td>\n",
       "    </tr>\n",
       "    <tr>\n",
       "      <th>3</th>\n",
       "      <td>7317475</td>\n",
       "      <td>2020-01-02</td>\n",
       "      <td>18</td>\n",
       "      <td>1</td>\n",
       "      <td>6.13</td>\n",
       "      <td>297533</td>\n",
       "      <td>FIS</td>\n",
       "    </tr>\n",
       "    <tr>\n",
       "      <th>4</th>\n",
       "      <td>4366938</td>\n",
       "      <td>2020-01-02</td>\n",
       "      <td>23</td>\n",
       "      <td>1</td>\n",
       "      <td>13.17</td>\n",
       "      <td>181284</td>\n",
       "      <td>FIS</td>\n",
       "    </tr>\n",
       "  </tbody>\n",
       "</table>\n",
       "</div>"
      ],
      "text/plain": [
       "   ID_VENDA    DT_VENDA  LOJA  QTD_SKU   VALOR  ID_CLIENTE CANAL\n",
       "0   1176550  2020-01-02    37        1    9.50      337763   FIS\n",
       "1  11683461  2020-01-02    15        1    6.64      195687   FIS\n",
       "2   3326484  2020-01-02    29        5  446.87       56059   FIS\n",
       "3   7317475  2020-01-02    18        1    6.13      297533   FIS\n",
       "4   4366938  2020-01-02    23        1   13.17      181284   FIS"
      ]
     },
     "execution_count": 4,
     "metadata": {},
     "output_type": "execute_result"
    }
   ],
   "source": [
    "print(f\"\"\" Dimensões do dataset de treino: \n",
    "                             Linhas: {df.shape[0]}       \n",
    "                             Colunas: {df.shape[1]}\n",
    "Primeiras linhas:\"\"\")\n",
    "df.head()"
   ]
  },
  {
   "cell_type": "code",
   "execution_count": 5,
   "id": "c0dc8b14",
   "metadata": {},
   "outputs": [
    {
     "name": "stdout",
     "output_type": "stream",
     "text": [
      " Dimensões do dataset de submissão: \n",
      "                             Linhas: 126616       \n",
      "                             Colunas: 2\n",
      "Primeiras linhas:\n"
     ]
    },
    {
     "data": {
      "text/html": [
       "<div>\n",
       "<style scoped>\n",
       "    .dataframe tbody tr th:only-of-type {\n",
       "        vertical-align: middle;\n",
       "    }\n",
       "\n",
       "    .dataframe tbody tr th {\n",
       "        vertical-align: top;\n",
       "    }\n",
       "\n",
       "    .dataframe thead th {\n",
       "        text-align: right;\n",
       "    }\n",
       "</style>\n",
       "<table border=\"1\" class=\"dataframe\">\n",
       "  <thead>\n",
       "    <tr style=\"text-align: right;\">\n",
       "      <th></th>\n",
       "      <th>ID_CLIENTE</th>\n",
       "      <th>VALOR</th>\n",
       "    </tr>\n",
       "  </thead>\n",
       "  <tbody>\n",
       "    <tr>\n",
       "      <th>0</th>\n",
       "      <td>4</td>\n",
       "      <td>0.0</td>\n",
       "    </tr>\n",
       "    <tr>\n",
       "      <th>1</th>\n",
       "      <td>9</td>\n",
       "      <td>0.0</td>\n",
       "    </tr>\n",
       "    <tr>\n",
       "      <th>2</th>\n",
       "      <td>12</td>\n",
       "      <td>0.0</td>\n",
       "    </tr>\n",
       "    <tr>\n",
       "      <th>3</th>\n",
       "      <td>15</td>\n",
       "      <td>0.0</td>\n",
       "    </tr>\n",
       "    <tr>\n",
       "      <th>4</th>\n",
       "      <td>19</td>\n",
       "      <td>0.0</td>\n",
       "    </tr>\n",
       "  </tbody>\n",
       "</table>\n",
       "</div>"
      ],
      "text/plain": [
       "   ID_CLIENTE  VALOR\n",
       "0           4    0.0\n",
       "1           9    0.0\n",
       "2          12    0.0\n",
       "3          15    0.0\n",
       "4          19    0.0"
      ]
     },
     "execution_count": 5,
     "metadata": {},
     "output_type": "execute_result"
    }
   ],
   "source": [
    "print(f\"\"\" Dimensões do dataset de submissão: \n",
    "                             Linhas: {df_sub.shape[0]}       \n",
    "                             Colunas: {df_sub.shape[1]}\n",
    "Primeiras linhas:\"\"\")\n",
    "df_sub.head()"
   ]
  },
  {
   "cell_type": "markdown",
   "id": "5b623d57",
   "metadata": {},
   "source": [
    "# Entendendo as colunas"
   ]
  },
  {
   "cell_type": "markdown",
   "id": "2db36474",
   "metadata": {},
   "source": [
    "O dataset compreende uma lista de vendas feitas em diferentes varejos a diferentes clientes.\n",
    "\n",
    "Descrição dos campos:\n",
    "\n",
    "- ID_VENDA - Id único para cada registro (categórico)\n",
    "- DT_VENDA - Data da venda (tempo)\n",
    "- LOJA - Id único da loja em que a venda foi realizada (categórico)\n",
    "- QTD_SKU - Quantidade de produtos vendidos (numérico)\n",
    "- VALOR - Valor total da venda (numérico)\n",
    "- ID_CLIENTE - Id único do cliente (categorico)\n",
    "- CANAL - Canal de venda (FIS - Físico, ECM - E-commerce, TELEVENDAS - Telefone, WHATSAPP - WhatsApp, IFOOD - iFood) (categórico)\n"
   ]
  },
  {
   "cell_type": "markdown",
   "id": "68d00c81",
   "metadata": {},
   "source": [
    "A partir desses dados, precisamos prever o LTV para cada cliente após 90 dias."
   ]
  },
  {
   "cell_type": "code",
   "execution_count": 6,
   "id": "b8ce9fb7",
   "metadata": {},
   "outputs": [],
   "source": [
    "primary_key = ['ID_VENDA']\n",
    "cat_vars = ['LOJA','ID_CLIENTE','CANAL']\n",
    "num_vars = ['QTD_SKU']\n",
    "time_vars = ['DT_VENDA']\n",
    "target = ['VALOR']"
   ]
  },
  {
   "cell_type": "code",
   "execution_count": 7,
   "id": "894ffe44",
   "metadata": {},
   "outputs": [
    {
     "name": "stdout",
     "output_type": "stream",
     "text": [
      "<class 'pandas.core.frame.DataFrame'>\n",
      "RangeIndex: 1630612 entries, 0 to 1630611\n",
      "Data columns (total 7 columns):\n",
      " #   Column      Non-Null Count    Dtype  \n",
      "---  ------      --------------    -----  \n",
      " 0   ID_VENDA    1630612 non-null  int64  \n",
      " 1   DT_VENDA    1630612 non-null  object \n",
      " 2   LOJA        1630612 non-null  int64  \n",
      " 3   QTD_SKU     1630612 non-null  int64  \n",
      " 4   VALOR       1630612 non-null  float64\n",
      " 5   ID_CLIENTE  1630612 non-null  int64  \n",
      " 6   CANAL       1630612 non-null  object \n",
      "dtypes: float64(1), int64(4), object(2)\n",
      "memory usage: 87.1+ MB\n"
     ]
    }
   ],
   "source": [
    "df.info()"
   ]
  },
  {
   "cell_type": "code",
   "execution_count": 108,
   "id": "58ad9675",
   "metadata": {},
   "outputs": [
    {
     "name": "stdout",
     "output_type": "stream",
     "text": [
      "Unique values in ID_VENDA: 1630612\n",
      "Unique values in DT_VENDA: 406\n",
      "Unique values in LOJA: 52\n",
      "Unique values in QTD_SKU: 83\n",
      "Unique values in VALOR: 38459\n",
      "Unique values in ID_CLIENTE: 210269\n",
      "Unique values in CANAL: 5\n"
     ]
    }
   ],
   "source": [
    "for var in df.columns:\n",
    "    print(f'Unique values in {var}: {df[var].nunique()}')"
   ]
  },
  {
   "cell_type": "markdown",
   "id": "c233ff73",
   "metadata": {},
   "source": [
    "# Pré-processamento\n",
    "\n",
    "Nesta seção, trataremos os dados e faremos uma engenharia de features inicial para termos mais dados (metadados) para explorar e tentar entender as relações e comportamentos."
   ]
  },
  {
   "cell_type": "markdown",
   "id": "942dc3c7",
   "metadata": {},
   "source": [
    "## Valores Faltantes"
   ]
  },
  {
   "cell_type": "code",
   "execution_count": 8,
   "id": "dd486491",
   "metadata": {},
   "outputs": [
    {
     "data": {
      "text/plain": [
       "ID_VENDA      0\n",
       "DT_VENDA      0\n",
       "LOJA          0\n",
       "QTD_SKU       0\n",
       "VALOR         0\n",
       "ID_CLIENTE    0\n",
       "CANAL         0\n",
       "dtype: int64"
      ]
     },
     "execution_count": 8,
     "metadata": {},
     "output_type": "execute_result"
    }
   ],
   "source": [
    "df.isna().sum()"
   ]
  },
  {
   "cell_type": "markdown",
   "id": "a4e6b9fe",
   "metadata": {},
   "source": [
    "Nenhum valor faltante."
   ]
  },
  {
   "cell_type": "markdown",
   "id": "3e82b201",
   "metadata": {},
   "source": [
    "## Dtypes"
   ]
  },
  {
   "cell_type": "markdown",
   "id": "1a763444",
   "metadata": {},
   "source": [
    "Vamos garantir que as colunas estão nos formatos certos para facilitar a manipulação, principalmente da variável de tempo `DT_VENDA`:"
   ]
  },
  {
   "cell_type": "code",
   "execution_count": 9,
   "id": "d2ee70aa",
   "metadata": {},
   "outputs": [],
   "source": [
    "def fix_dtype_func(x):\n",
    "    \"\"\" Acerta os tipos das colunas \"\"\"\n",
    "    x=x.copy()\n",
    "    try:\n",
    "        for var in cat_vars:\n",
    "            x[var] = x[var].astype('O')\n",
    "        for var in num_vars:\n",
    "            x[var] = x[var].astype('int')\n",
    "        for var in time_vars:\n",
    "            x[var] = pd.to_datetime(x[var])\n",
    "    except Exception as err:\n",
    "        print('Erro em fix_dtype_func')\n",
    "        print(err)\n",
    "    return x\n",
    "\n",
    "# Viabiliza usar a função como um transformador do scikit-learn\n",
    "get_fix_dtype = FunctionTransformer(fix_dtype_func)"
   ]
  },
  {
   "cell_type": "code",
   "execution_count": 10,
   "id": "45c2e4b1",
   "metadata": {},
   "outputs": [
    {
     "name": "stdout",
     "output_type": "stream",
     "text": [
      "<class 'pandas.core.frame.DataFrame'>\n",
      "RangeIndex: 1630612 entries, 0 to 1630611\n",
      "Data columns (total 7 columns):\n",
      " #   Column      Non-Null Count    Dtype         \n",
      "---  ------      --------------    -----         \n",
      " 0   ID_VENDA    1630612 non-null  int64         \n",
      " 1   DT_VENDA    1630612 non-null  datetime64[ns]\n",
      " 2   LOJA        1630612 non-null  object        \n",
      " 3   QTD_SKU     1630612 non-null  int32         \n",
      " 4   VALOR       1630612 non-null  float64       \n",
      " 5   ID_CLIENTE  1630612 non-null  object        \n",
      " 6   CANAL       1630612 non-null  object        \n",
      "dtypes: datetime64[ns](1), float64(1), int32(1), int64(1), object(3)\n",
      "memory usage: 80.9+ MB\n"
     ]
    }
   ],
   "source": [
    "# cria um dataset aplicando a transformação\n",
    "df_type = get_fix_dtype.transform(df)\n",
    "df_type.info()"
   ]
  },
  {
   "cell_type": "markdown",
   "id": "a1df4fc4",
   "metadata": {},
   "source": [
    "## Feature de tempo"
   ]
  },
  {
   "cell_type": "markdown",
   "id": "5ed757f4",
   "metadata": {},
   "source": [
    "Para facilitar a manipulação, vamos abrir a variável `DT_VENDAS` em `ANO`, `MES` e `DIA`:"
   ]
  },
  {
   "cell_type": "code",
   "execution_count": 102,
   "id": "07a7c526",
   "metadata": {},
   "outputs": [],
   "source": [
    "def time_features_func(x):\n",
    "    \"\"\" Cria colunas com ano, mês e dia das vendas\"\"\"\n",
    "    # cria cópia para não alterar o df original por acidente\n",
    "    x=x.copy()\n",
    "    try:\n",
    "        x['ANO'] = x['DT_VENDA'].dt.year\n",
    "        x['MES'] = x['DT_VENDA'].dt.month\n",
    "        x['DIA'] = x['DT_VENDA'].dt.day\n",
    "        x = x.drop(['DT_VENDA'],axis=1).copy()\n",
    "    except Exception as err:\n",
    "        print('Erro em fix_dtype_func')\n",
    "        print(err)\n",
    "    return x\n",
    "\n",
    "# Viabiliza usar a função como um transformador do scikit-learn\n",
    "get_time_features = FunctionTransformer(time_features_func)"
   ]
  },
  {
   "cell_type": "code",
   "execution_count": 103,
   "id": "82a27072",
   "metadata": {},
   "outputs": [
    {
     "data": {
      "text/html": [
       "<div>\n",
       "<style scoped>\n",
       "    .dataframe tbody tr th:only-of-type {\n",
       "        vertical-align: middle;\n",
       "    }\n",
       "\n",
       "    .dataframe tbody tr th {\n",
       "        vertical-align: top;\n",
       "    }\n",
       "\n",
       "    .dataframe thead th {\n",
       "        text-align: right;\n",
       "    }\n",
       "</style>\n",
       "<table border=\"1\" class=\"dataframe\">\n",
       "  <thead>\n",
       "    <tr style=\"text-align: right;\">\n",
       "      <th></th>\n",
       "      <th>ID_VENDA</th>\n",
       "      <th>LOJA</th>\n",
       "      <th>QTD_SKU</th>\n",
       "      <th>VALOR</th>\n",
       "      <th>ID_CLIENTE</th>\n",
       "      <th>CANAL</th>\n",
       "      <th>ANO</th>\n",
       "      <th>MES</th>\n",
       "      <th>DIA</th>\n",
       "    </tr>\n",
       "  </thead>\n",
       "  <tbody>\n",
       "    <tr>\n",
       "      <th>0</th>\n",
       "      <td>1176550</td>\n",
       "      <td>37</td>\n",
       "      <td>1</td>\n",
       "      <td>9.50</td>\n",
       "      <td>337763</td>\n",
       "      <td>FIS</td>\n",
       "      <td>2020</td>\n",
       "      <td>1</td>\n",
       "      <td>2</td>\n",
       "    </tr>\n",
       "    <tr>\n",
       "      <th>1</th>\n",
       "      <td>11683461</td>\n",
       "      <td>15</td>\n",
       "      <td>1</td>\n",
       "      <td>6.64</td>\n",
       "      <td>195687</td>\n",
       "      <td>FIS</td>\n",
       "      <td>2020</td>\n",
       "      <td>1</td>\n",
       "      <td>2</td>\n",
       "    </tr>\n",
       "    <tr>\n",
       "      <th>2</th>\n",
       "      <td>3326484</td>\n",
       "      <td>29</td>\n",
       "      <td>5</td>\n",
       "      <td>446.87</td>\n",
       "      <td>56059</td>\n",
       "      <td>FIS</td>\n",
       "      <td>2020</td>\n",
       "      <td>1</td>\n",
       "      <td>2</td>\n",
       "    </tr>\n",
       "    <tr>\n",
       "      <th>3</th>\n",
       "      <td>7317475</td>\n",
       "      <td>18</td>\n",
       "      <td>1</td>\n",
       "      <td>6.13</td>\n",
       "      <td>297533</td>\n",
       "      <td>FIS</td>\n",
       "      <td>2020</td>\n",
       "      <td>1</td>\n",
       "      <td>2</td>\n",
       "    </tr>\n",
       "    <tr>\n",
       "      <th>4</th>\n",
       "      <td>4366938</td>\n",
       "      <td>23</td>\n",
       "      <td>1</td>\n",
       "      <td>13.17</td>\n",
       "      <td>181284</td>\n",
       "      <td>FIS</td>\n",
       "      <td>2020</td>\n",
       "      <td>1</td>\n",
       "      <td>2</td>\n",
       "    </tr>\n",
       "  </tbody>\n",
       "</table>\n",
       "</div>"
      ],
      "text/plain": [
       "   ID_VENDA LOJA  QTD_SKU   VALOR ID_CLIENTE CANAL   ANO  MES  DIA\n",
       "0   1176550   37        1    9.50     337763   FIS  2020    1    2\n",
       "1  11683461   15        1    6.64     195687   FIS  2020    1    2\n",
       "2   3326484   29        5  446.87      56059   FIS  2020    1    2\n",
       "3   7317475   18        1    6.13     297533   FIS  2020    1    2\n",
       "4   4366938   23        1   13.17     181284   FIS  2020    1    2"
      ]
     },
     "execution_count": 103,
     "metadata": {},
     "output_type": "execute_result"
    }
   ],
   "source": [
    "# cria um dataset aplicando a transformação\n",
    "df_time = get_time_features.transform(df_type)\n",
    "df_time.head()"
   ]
  },
  {
   "cell_type": "code",
   "execution_count": 104,
   "id": "dfdbefe1",
   "metadata": {},
   "outputs": [],
   "source": [
    "df_20 = df_time[df_time['ANO']==2020]\n",
    "df_21 = df_time[df_time['ANO']==2021]"
   ]
  },
  {
   "cell_type": "code",
   "execution_count": 105,
   "id": "be36be9f",
   "metadata": {},
   "outputs": [
    {
     "data": {
      "text/html": [
       "<div>\n",
       "<style scoped>\n",
       "    .dataframe tbody tr th:only-of-type {\n",
       "        vertical-align: middle;\n",
       "    }\n",
       "\n",
       "    .dataframe tbody tr th {\n",
       "        vertical-align: top;\n",
       "    }\n",
       "\n",
       "    .dataframe thead th {\n",
       "        text-align: right;\n",
       "    }\n",
       "</style>\n",
       "<table border=\"1\" class=\"dataframe\">\n",
       "  <thead>\n",
       "    <tr style=\"text-align: right;\">\n",
       "      <th></th>\n",
       "      <th>ID_VENDA</th>\n",
       "      <th>LOJA</th>\n",
       "      <th>QTD_SKU</th>\n",
       "      <th>VALOR</th>\n",
       "      <th>ID_CLIENTE</th>\n",
       "      <th>CANAL</th>\n",
       "      <th>ANO</th>\n",
       "      <th>MES</th>\n",
       "      <th>DIA</th>\n",
       "    </tr>\n",
       "  </thead>\n",
       "  <tbody>\n",
       "    <tr>\n",
       "      <th>1395907</th>\n",
       "      <td>11387535</td>\n",
       "      <td>18</td>\n",
       "      <td>12</td>\n",
       "      <td>289.45</td>\n",
       "      <td>149310</td>\n",
       "      <td>FIS</td>\n",
       "      <td>2021</td>\n",
       "      <td>1</td>\n",
       "      <td>2</td>\n",
       "    </tr>\n",
       "    <tr>\n",
       "      <th>1395908</th>\n",
       "      <td>2942502</td>\n",
       "      <td>31</td>\n",
       "      <td>2</td>\n",
       "      <td>49.57</td>\n",
       "      <td>118591</td>\n",
       "      <td>FIS</td>\n",
       "      <td>2021</td>\n",
       "      <td>1</td>\n",
       "      <td>2</td>\n",
       "    </tr>\n",
       "    <tr>\n",
       "      <th>1395909</th>\n",
       "      <td>8563927</td>\n",
       "      <td>8</td>\n",
       "      <td>3</td>\n",
       "      <td>53.69</td>\n",
       "      <td>327205</td>\n",
       "      <td>FIS</td>\n",
       "      <td>2021</td>\n",
       "      <td>1</td>\n",
       "      <td>2</td>\n",
       "    </tr>\n",
       "    <tr>\n",
       "      <th>1395910</th>\n",
       "      <td>1864130</td>\n",
       "      <td>39</td>\n",
       "      <td>2</td>\n",
       "      <td>6.93</td>\n",
       "      <td>51178</td>\n",
       "      <td>FIS</td>\n",
       "      <td>2021</td>\n",
       "      <td>1</td>\n",
       "      <td>2</td>\n",
       "    </tr>\n",
       "    <tr>\n",
       "      <th>1395911</th>\n",
       "      <td>8668443</td>\n",
       "      <td>16</td>\n",
       "      <td>4</td>\n",
       "      <td>31.94</td>\n",
       "      <td>141369</td>\n",
       "      <td>FIS</td>\n",
       "      <td>2021</td>\n",
       "      <td>1</td>\n",
       "      <td>2</td>\n",
       "    </tr>\n",
       "    <tr>\n",
       "      <th>...</th>\n",
       "      <td>...</td>\n",
       "      <td>...</td>\n",
       "      <td>...</td>\n",
       "      <td>...</td>\n",
       "      <td>...</td>\n",
       "      <td>...</td>\n",
       "      <td>...</td>\n",
       "      <td>...</td>\n",
       "      <td>...</td>\n",
       "    </tr>\n",
       "    <tr>\n",
       "      <th>1630607</th>\n",
       "      <td>2479951</td>\n",
       "      <td>38</td>\n",
       "      <td>3</td>\n",
       "      <td>94.69</td>\n",
       "      <td>23473</td>\n",
       "      <td>FIS</td>\n",
       "      <td>2021</td>\n",
       "      <td>2</td>\n",
       "      <td>24</td>\n",
       "    </tr>\n",
       "    <tr>\n",
       "      <th>1630608</th>\n",
       "      <td>10228861</td>\n",
       "      <td>2</td>\n",
       "      <td>5</td>\n",
       "      <td>141.58</td>\n",
       "      <td>259864</td>\n",
       "      <td>FIS</td>\n",
       "      <td>2021</td>\n",
       "      <td>2</td>\n",
       "      <td>24</td>\n",
       "    </tr>\n",
       "    <tr>\n",
       "      <th>1630609</th>\n",
       "      <td>11911135</td>\n",
       "      <td>13</td>\n",
       "      <td>12</td>\n",
       "      <td>191.66</td>\n",
       "      <td>299242</td>\n",
       "      <td>FIS</td>\n",
       "      <td>2021</td>\n",
       "      <td>2</td>\n",
       "      <td>24</td>\n",
       "    </tr>\n",
       "    <tr>\n",
       "      <th>1630610</th>\n",
       "      <td>11202897</td>\n",
       "      <td>18</td>\n",
       "      <td>3</td>\n",
       "      <td>71.57</td>\n",
       "      <td>353139</td>\n",
       "      <td>IFOOD</td>\n",
       "      <td>2021</td>\n",
       "      <td>2</td>\n",
       "      <td>24</td>\n",
       "    </tr>\n",
       "    <tr>\n",
       "      <th>1630611</th>\n",
       "      <td>2681248</td>\n",
       "      <td>40</td>\n",
       "      <td>2</td>\n",
       "      <td>16.55</td>\n",
       "      <td>91963</td>\n",
       "      <td>FIS</td>\n",
       "      <td>2021</td>\n",
       "      <td>2</td>\n",
       "      <td>24</td>\n",
       "    </tr>\n",
       "  </tbody>\n",
       "</table>\n",
       "<p>234705 rows × 9 columns</p>\n",
       "</div>"
      ],
      "text/plain": [
       "         ID_VENDA LOJA  QTD_SKU   VALOR ID_CLIENTE  CANAL   ANO  MES  DIA\n",
       "1395907  11387535   18       12  289.45     149310    FIS  2021    1    2\n",
       "1395908   2942502   31        2   49.57     118591    FIS  2021    1    2\n",
       "1395909   8563927    8        3   53.69     327205    FIS  2021    1    2\n",
       "1395910   1864130   39        2    6.93      51178    FIS  2021    1    2\n",
       "1395911   8668443   16        4   31.94     141369    FIS  2021    1    2\n",
       "...           ...  ...      ...     ...        ...    ...   ...  ...  ...\n",
       "1630607   2479951   38        3   94.69      23473    FIS  2021    2   24\n",
       "1630608  10228861    2        5  141.58     259864    FIS  2021    2   24\n",
       "1630609  11911135   13       12  191.66     299242    FIS  2021    2   24\n",
       "1630610  11202897   18        3   71.57     353139  IFOOD  2021    2   24\n",
       "1630611   2681248   40        2   16.55      91963    FIS  2021    2   24\n",
       "\n",
       "[234705 rows x 9 columns]"
      ]
     },
     "execution_count": 105,
     "metadata": {},
     "output_type": "execute_result"
    }
   ],
   "source": [
    "df_21"
   ]
  },
  {
   "cell_type": "markdown",
   "id": "cc7e438a",
   "metadata": {},
   "source": [
    "# Exploração"
   ]
  },
  {
   "cell_type": "markdown",
   "id": "b76de185",
   "metadata": {},
   "source": [
    "Perguntas:\n",
    "- valor médio por mês\n",
    "- valor\n",
    "- valor médio por cliente - tentar discretizar - ver quartis\n",
    "- "
   ]
  },
  {
   "cell_type": "markdown",
   "id": "5f2871a2",
   "metadata": {},
   "source": [
    "## Valor médio por mês"
   ]
  },
  {
   "cell_type": "code",
   "execution_count": 83,
   "id": "dd423e76",
   "metadata": {},
   "outputs": [
    {
     "name": "stdout",
     "output_type": "stream",
     "text": [
      "ANO   MES\n",
      "2020  1       49.704415\n",
      "      2       51.873888\n",
      "      3       61.727801\n",
      "      4       97.819020\n",
      "      5      107.540680\n",
      "      6      101.716184\n",
      "      7       89.874623\n",
      "      8       88.526555\n",
      "      9       78.655404\n",
      "      10      76.976812\n",
      "      11      80.877278\n",
      "      12     108.262040\n",
      "Name: VALOR, dtype: float64\n",
      "ANO   MES\n",
      "2021  1      73.431423\n",
      "      2      74.172888\n",
      "Name: VALOR, dtype: float64\n"
     ]
    }
   ],
   "source": [
    "media_mes_20 = df_time.groupby(['ANO','MES'])['VALOR'].mean()[:12]\n",
    "print(media_mes_20)\n",
    "media_mes_21 = df_time.groupby(['ANO','MES'])['VALOR'].mean()[12:14]\n",
    "print(media_mes_21)\n",
    "#std_mes = df_time.groupby(['MES'])['VALOR'].std()\n",
    "#print(std_mes)"
   ]
  },
  {
   "cell_type": "code",
   "execution_count": 84,
   "id": "93c06bda",
   "metadata": {},
   "outputs": [
    {
     "data": {
      "image/png": "[encoded data removed]",
      "text/plain": [
       "<Figure size 1440x720 with 1 Axes>"
      ]
     },
     "metadata": {},
     "output_type": "display_data"
    }
   ],
   "source": [
    "fig, ax = plt.subplots(1,figsize=(20,10))\n",
    "list_mes=['Jan','Fev','Mar', 'Abr','Mai', 'Jun', 'Jul','Ago','Set','Out','Nov','Dec']\n",
    "sns.lineplot(y=media_mes_20,x=list_mes,ax=ax,marker='o', linewidth=10, mec='gold',mfc='black',mew=10,color='black')\n",
    "plt.title('Média de vendas por mês')\n",
    "sns.lineplot(y=media_mes_21,x=['Jan','Fev'],ax=ax,marker='o', linewidth=10, mec='gold',mfc='black',mew=10,color='orange')\n",
    "plt.legend(['2020','2021'], loc='best',fontsize=50)\n",
    "plt.show()"
   ]
  },
  {
   "cell_type": "markdown",
   "id": "eabfbd71",
   "metadata": {},
   "source": [
    "## Ticket médio de cada cliente\n",
    "\n",
    "O ticket médio de cada cliente pode ajudar a prever quanto este gastará nos próximos 90 dias. Vamos criar uma coluna com essa informação agrupada por diferentes critérios."
   ]
  },
  {
   "cell_type": "code",
   "execution_count": 101,
   "id": "d00d9d6c",
   "metadata": {},
   "outputs": [
    {
     "data": {
      "text/html": [
       "<div>\n",
       "<style scoped>\n",
       "    .dataframe tbody tr th:only-of-type {\n",
       "        vertical-align: middle;\n",
       "    }\n",
       "\n",
       "    .dataframe tbody tr th {\n",
       "        vertical-align: top;\n",
       "    }\n",
       "\n",
       "    .dataframe thead th {\n",
       "        text-align: right;\n",
       "    }\n",
       "</style>\n",
       "<table border=\"1\" class=\"dataframe\">\n",
       "  <thead>\n",
       "    <tr style=\"text-align: right;\">\n",
       "      <th></th>\n",
       "      <th></th>\n",
       "      <th>VALOR</th>\n",
       "    </tr>\n",
       "    <tr>\n",
       "      <th>ID_CLIENTE</th>\n",
       "      <th>MES</th>\n",
       "      <th></th>\n",
       "    </tr>\n",
       "  </thead>\n",
       "  <tbody>\n",
       "    <tr>\n",
       "      <th rowspan=\"2\" valign=\"top\">0</th>\n",
       "      <th>9</th>\n",
       "      <td>266.940</td>\n",
       "    </tr>\n",
       "    <tr>\n",
       "      <th>12</th>\n",
       "      <td>369.350</td>\n",
       "    </tr>\n",
       "    <tr>\n",
       "      <th rowspan=\"3\" valign=\"top\">2</th>\n",
       "      <th>1</th>\n",
       "      <td>60.540</td>\n",
       "    </tr>\n",
       "    <tr>\n",
       "      <th>4</th>\n",
       "      <td>200.680</td>\n",
       "    </tr>\n",
       "    <tr>\n",
       "      <th>6</th>\n",
       "      <td>104.690</td>\n",
       "    </tr>\n",
       "    <tr>\n",
       "      <th>...</th>\n",
       "      <th>...</th>\n",
       "      <td>...</td>\n",
       "    </tr>\n",
       "    <tr>\n",
       "      <th rowspan=\"3\" valign=\"top\">384418</th>\n",
       "      <th>9</th>\n",
       "      <td>10.390</td>\n",
       "    </tr>\n",
       "    <tr>\n",
       "      <th>10</th>\n",
       "      <td>16.232</td>\n",
       "    </tr>\n",
       "    <tr>\n",
       "      <th>11</th>\n",
       "      <td>24.390</td>\n",
       "    </tr>\n",
       "    <tr>\n",
       "      <th rowspan=\"2\" valign=\"top\">384420</th>\n",
       "      <th>11</th>\n",
       "      <td>131.670</td>\n",
       "    </tr>\n",
       "    <tr>\n",
       "      <th>12</th>\n",
       "      <td>225.930</td>\n",
       "    </tr>\n",
       "  </tbody>\n",
       "</table>\n",
       "<p>799422 rows × 1 columns</p>\n",
       "</div>"
      ],
      "text/plain": [
       "                  VALOR\n",
       "ID_CLIENTE MES         \n",
       "0          9    266.940\n",
       "           12   369.350\n",
       "2          1     60.540\n",
       "           4    200.680\n",
       "           6    104.690\n",
       "...                 ...\n",
       "384418     9     10.390\n",
       "           10    16.232\n",
       "           11    24.390\n",
       "384420     11   131.670\n",
       "           12   225.930\n",
       "\n",
       "[799422 rows x 1 columns]"
      ]
     },
     "execution_count": 101,
     "metadata": {},
     "output_type": "execute_result"
    }
   ],
   "source": [
    "pd.DataFrame(df_20.groupby(['ID_CLIENTE','MES'])['VALOR'].mean())"
   ]
  },
  {
   "cell_type": "code",
   "execution_count": null,
   "id": "456dcc04",
   "metadata": {},
   "outputs": [],
   "source": [
    "# ticked médio de todos os clientes\n",
    "print(f'valor médio de df.groupby(['ID_CLIENTE'])['VALOR'].mean().mean()"
   ]
  }
 ],
 "metadata": {
  "kernelspec": {
   "display_name": "Python 3 (ipykernel)",
   "language": "python",
   "name": "python3"
  },
  "language_info": {
   "codemirror_mode": {
    "name": "ipython",
    "version": 3
   },
   "file_extension": ".py",
   "mimetype": "text/x-python",
   "name": "python",
   "nbconvert_exporter": "python",
   "pygments_lexer": "ipython3",
   "version": "3.8.10"
  }
 },
 "nbformat": 4,
 "nbformat_minor": 5
}
