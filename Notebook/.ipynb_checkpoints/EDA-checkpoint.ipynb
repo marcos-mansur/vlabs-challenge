{
 "cells": [
  {
   "cell_type": "markdown",
   "id": "07b721d2",
   "metadata": {},
   "source": [
    "# EDA do dataset do VLabs Challenge\n",
    "\n",
    "Esse notebook compreende a análise exploratória dos dados do desafio VLabs, promovido pela Viságio. O desafio consiste em um modelo preditivo que realiza uma tarefa de regressão para responder à seguinte pergunta:\n",
    "\n",
    "*Qual a previsão de LTV (Lifetime Value) do cliente para os próximos 90 dias?*"
   ]
  },
  {
   "cell_type": "markdown",
   "id": "81e1048e",
   "metadata": {},
   "source": [
    "# Importar pacotes"
   ]
  },
  {
   "cell_type": "code",
   "execution_count": 1,
   "id": "783672e2",
   "metadata": {},
   "outputs": [],
   "source": [
    "import pandas as pd\n",
    "import numpy as np\n",
    "import matplotlib.pyplot as plt\n",
    "import seaborn as sns\n",
    "from sklearn.pipeline import Pipeline, make_pipeline\n",
    "from sklearn.preprocessing import FunctionTransformer"
   ]
  },
  {
   "cell_type": "code",
   "execution_count": 2,
   "id": "c8002cee",
   "metadata": {},
   "outputs": [],
   "source": [
    "#aaaaand a nice setup for graphics cause why not\n",
    "#blue and salmon\n",
    "sns.set(font = 'Serif', style = 'white', rc = {'axes.facecolor':'#f1f1f1', 'figure.facecolor':'#f1f1f1'})"
   ]
  },
  {
   "cell_type": "markdown",
   "id": "7289a4ef",
   "metadata": {},
   "source": [
    "# Carregar os dados"
   ]
  },
  {
   "cell_type": "code",
   "execution_count": 3,
   "id": "597f415c",
   "metadata": {},
   "outputs": [],
   "source": [
    "df = pd.read_csv('C:/Users/ticom/VLabs/Data/sales_20_21_train.csv', header=0,)\n",
    "df_sub = pd.read_csv('C:/Users/ticom/VLabs/Data/sample_submission.csv',header=0)"
   ]
  },
  {
   "cell_type": "markdown",
   "id": "0109bd17",
   "metadata": {},
   "source": [
    "## Pré-visualizar"
   ]
  },
  {
   "cell_type": "code",
   "execution_count": 101,
   "id": "552543c8",
   "metadata": {},
   "outputs": [
    {
     "name": "stdout",
     "output_type": "stream",
     "text": [
      " Dimensões do dataset de treino: \n",
      "                             Linhas: 1630612       \n",
      "                             Colunas: 7\n",
      "Primeiras linhas:\n"
     ]
    },
    {
     "data": {
      "text/html": [
       "<div>\n",
       "<style scoped>\n",
       "    .dataframe tbody tr th:only-of-type {\n",
       "        vertical-align: middle;\n",
       "    }\n",
       "\n",
       "    .dataframe tbody tr th {\n",
       "        vertical-align: top;\n",
       "    }\n",
       "\n",
       "    .dataframe thead th {\n",
       "        text-align: right;\n",
       "    }\n",
       "</style>\n",
       "<table border=\"1\" class=\"dataframe\">\n",
       "  <thead>\n",
       "    <tr style=\"text-align: right;\">\n",
       "      <th></th>\n",
       "      <th>ID_VENDA</th>\n",
       "      <th>DT_VENDA</th>\n",
       "      <th>LOJA</th>\n",
       "      <th>QTD_SKU</th>\n",
       "      <th>VALOR</th>\n",
       "      <th>ID_CLIENTE</th>\n",
       "      <th>CANAL</th>\n",
       "    </tr>\n",
       "  </thead>\n",
       "  <tbody>\n",
       "    <tr>\n",
       "      <th>0</th>\n",
       "      <td>1176550</td>\n",
       "      <td>2020-01-02</td>\n",
       "      <td>37</td>\n",
       "      <td>1</td>\n",
       "      <td>9.50</td>\n",
       "      <td>337763</td>\n",
       "      <td>FIS</td>\n",
       "    </tr>\n",
       "    <tr>\n",
       "      <th>1</th>\n",
       "      <td>11683461</td>\n",
       "      <td>2020-01-02</td>\n",
       "      <td>15</td>\n",
       "      <td>1</td>\n",
       "      <td>6.64</td>\n",
       "      <td>195687</td>\n",
       "      <td>FIS</td>\n",
       "    </tr>\n",
       "    <tr>\n",
       "      <th>2</th>\n",
       "      <td>3326484</td>\n",
       "      <td>2020-01-02</td>\n",
       "      <td>29</td>\n",
       "      <td>5</td>\n",
       "      <td>446.87</td>\n",
       "      <td>56059</td>\n",
       "      <td>FIS</td>\n",
       "    </tr>\n",
       "    <tr>\n",
       "      <th>3</th>\n",
       "      <td>7317475</td>\n",
       "      <td>2020-01-02</td>\n",
       "      <td>18</td>\n",
       "      <td>1</td>\n",
       "      <td>6.13</td>\n",
       "      <td>297533</td>\n",
       "      <td>FIS</td>\n",
       "    </tr>\n",
       "    <tr>\n",
       "      <th>4</th>\n",
       "      <td>4366938</td>\n",
       "      <td>2020-01-02</td>\n",
       "      <td>23</td>\n",
       "      <td>1</td>\n",
       "      <td>13.17</td>\n",
       "      <td>181284</td>\n",
       "      <td>FIS</td>\n",
       "    </tr>\n",
       "  </tbody>\n",
       "</table>\n",
       "</div>"
      ],
      "text/plain": [
       "   ID_VENDA    DT_VENDA  LOJA  QTD_SKU   VALOR  ID_CLIENTE CANAL\n",
       "0   1176550  2020-01-02    37        1    9.50      337763   FIS\n",
       "1  11683461  2020-01-02    15        1    6.64      195687   FIS\n",
       "2   3326484  2020-01-02    29        5  446.87       56059   FIS\n",
       "3   7317475  2020-01-02    18        1    6.13      297533   FIS\n",
       "4   4366938  2020-01-02    23        1   13.17      181284   FIS"
      ]
     },
     "execution_count": 101,
     "metadata": {},
     "output_type": "execute_result"
    }
   ],
   "source": [
    "print(f\"\"\" Dimensões do dataset de treino: \n",
    "                             Linhas: {df.shape[0]}       \n",
    "                             Colunas: {df.shape[1]}\n",
    "Primeiras linhas:\"\"\")\n",
    "df.head()"
   ]
  },
  {
   "cell_type": "code",
   "execution_count": 102,
   "id": "9441f9e4",
   "metadata": {},
   "outputs": [
    {
     "name": "stdout",
     "output_type": "stream",
     "text": [
      " Dimensões do dataset de submissão: \n",
      "                             Linhas: 126616       \n",
      "                             Colunas: 2\n",
      "Primeiras linhas:\n"
     ]
    },
    {
     "data": {
      "text/html": [
       "<div>\n",
       "<style scoped>\n",
       "    .dataframe tbody tr th:only-of-type {\n",
       "        vertical-align: middle;\n",
       "    }\n",
       "\n",
       "    .dataframe tbody tr th {\n",
       "        vertical-align: top;\n",
       "    }\n",
       "\n",
       "    .dataframe thead th {\n",
       "        text-align: right;\n",
       "    }\n",
       "</style>\n",
       "<table border=\"1\" class=\"dataframe\">\n",
       "  <thead>\n",
       "    <tr style=\"text-align: right;\">\n",
       "      <th></th>\n",
       "      <th>ID_CLIENTE</th>\n",
       "      <th>VALOR</th>\n",
       "    </tr>\n",
       "  </thead>\n",
       "  <tbody>\n",
       "    <tr>\n",
       "      <th>0</th>\n",
       "      <td>4</td>\n",
       "      <td>0.0</td>\n",
       "    </tr>\n",
       "    <tr>\n",
       "      <th>1</th>\n",
       "      <td>9</td>\n",
       "      <td>0.0</td>\n",
       "    </tr>\n",
       "    <tr>\n",
       "      <th>2</th>\n",
       "      <td>12</td>\n",
       "      <td>0.0</td>\n",
       "    </tr>\n",
       "    <tr>\n",
       "      <th>3</th>\n",
       "      <td>15</td>\n",
       "      <td>0.0</td>\n",
       "    </tr>\n",
       "    <tr>\n",
       "      <th>4</th>\n",
       "      <td>19</td>\n",
       "      <td>0.0</td>\n",
       "    </tr>\n",
       "  </tbody>\n",
       "</table>\n",
       "</div>"
      ],
      "text/plain": [
       "   ID_CLIENTE  VALOR\n",
       "0           4    0.0\n",
       "1           9    0.0\n",
       "2          12    0.0\n",
       "3          15    0.0\n",
       "4          19    0.0"
      ]
     },
     "execution_count": 102,
     "metadata": {},
     "output_type": "execute_result"
    }
   ],
   "source": [
    "print(f\"\"\" Dimensões do dataset de submissão: \n",
    "                             Linhas: {df_sub.shape[0]}       \n",
    "                             Colunas: {df_sub.shape[1]}\n",
    "Primeiras linhas:\"\"\")\n",
    "df_sub.head()"
   ]
  },
  {
   "cell_type": "markdown",
   "id": "af272a68",
   "metadata": {},
   "source": [
    "# Entendendo as colunas"
   ]
  },
  {
   "cell_type": "markdown",
   "id": "222d0d12",
   "metadata": {},
   "source": [
    "O dataset compreende uma lista de vendas feitas a diferentes clientes (varejos).\n",
    "\n",
    "Descrição dos campos:\n",
    "\n",
    "- ID_VENDA - Id único para cada registro (categórico)\n",
    "- DT_VENDA - Data da venda (tempo)\n",
    "- LOJA - Id único da loja em que a venda foi realizada (categórico)\n",
    "- QTD_SKU - Quantidade de produtos vendidos (numérico)\n",
    "- VALOR - Valor total da venda (numérico)\n",
    "- ID_CLIENTE - Id único do cliente (categorico)\n",
    "- CANAL - Canal de venda (FIS - Físico, ECM - E-commerce, TELEVENDAS - Telefone, WHATSAPP - WhatsApp, IFOOD - iFood) (categórico)\n"
   ]
  },
  {
   "cell_type": "markdown",
   "id": "fb3e5302",
   "metadata": {},
   "source": [
    "A partir desses dados, precisamos prever o LTV para cada cliente após 90 dias."
   ]
  },
  {
   "cell_type": "code",
   "execution_count": 70,
   "id": "593fd5a3",
   "metadata": {},
   "outputs": [],
   "source": [
    "primary_key = ['ID_VENDA']\n",
    "cat_vars = ['LOJA','ID_CLIENTE','CANAL']\n",
    "num_vars = ['QTD_SKU']\n",
    "time_vars = ['DT_VENDA']\n",
    "target = ['VALOR']"
   ]
  },
  {
   "cell_type": "code",
   "execution_count": 41,
   "id": "44546e9f",
   "metadata": {},
   "outputs": [
    {
     "name": "stdout",
     "output_type": "stream",
     "text": [
      "<class 'pandas.core.frame.DataFrame'>\n",
      "Int64Index: 1630612 entries, 1176550 to 2681248\n",
      "Data columns (total 6 columns):\n",
      " #   Column      Non-Null Count    Dtype  \n",
      "---  ------      --------------    -----  \n",
      " 0   DT_VENDA    1630612 non-null  object \n",
      " 1   LOJA        1630612 non-null  int64  \n",
      " 2   QTD_SKU     1630612 non-null  int64  \n",
      " 3   VALOR       1630612 non-null  float64\n",
      " 4   ID_CLIENTE  1630612 non-null  int64  \n",
      " 5   CANAL       1630612 non-null  object \n",
      "dtypes: float64(1), int64(3), object(2)\n",
      "memory usage: 87.1+ MB\n"
     ]
    }
   ],
   "source": [
    "df.info()"
   ]
  },
  {
   "cell_type": "markdown",
   "id": "f0a1b140",
   "metadata": {},
   "source": [
    "# Pré-processamento\n",
    "\n",
    "Nesta seção, trataremos os dados e faremos uma engenharia de features inicial para termos mais dados (metadados) para explorar e tentar entender as relações e comportamentos."
   ]
  },
  {
   "cell_type": "markdown",
   "id": "a5632a32",
   "metadata": {},
   "source": [
    "## Valores Faltantes"
   ]
  },
  {
   "cell_type": "code",
   "execution_count": 97,
   "id": "1459c68d",
   "metadata": {},
   "outputs": [
    {
     "data": {
      "text/plain": [
       "ID_VENDA      0\n",
       "DT_VENDA      0\n",
       "LOJA          0\n",
       "QTD_SKU       0\n",
       "VALOR         0\n",
       "ID_CLIENTE    0\n",
       "CANAL         0\n",
       "dtype: int64"
      ]
     },
     "execution_count": 97,
     "metadata": {},
     "output_type": "execute_result"
    }
   ],
   "source": [
    "df.isna().sum()"
   ]
  },
  {
   "cell_type": "markdown",
   "id": "5417e801",
   "metadata": {},
   "source": [
    "Nenhum valor faltante."
   ]
  },
  {
   "cell_type": "markdown",
   "id": "533725b8",
   "metadata": {},
   "source": [
    "## Dtypes"
   ]
  },
  {
   "cell_type": "markdown",
   "id": "a26aa8f7",
   "metadata": {},
   "source": [
    "Vamos garantir que as colunas estão nos formatos certos para facilitar a manipulação, principalmente da variável de tempo `DT_VENDA`:"
   ]
  },
  {
   "cell_type": "code",
   "execution_count": 87,
   "id": "c76aba12",
   "metadata": {},
   "outputs": [],
   "source": [
    "def fix_dtype_func(x):\n",
    "    \"\"\" Acerta os tipos das colunas \"\"\"\n",
    "    x=x.copy()\n",
    "    try:\n",
    "        for var in cat_vars:\n",
    "            x[var] = x[var].astype('O')\n",
    "        for var in num_vars:\n",
    "            x[var] = x[var].astype('int')\n",
    "        for var in time_vars:\n",
    "            x[var] = pd.to_datetime(x[var])\n",
    "    except Exception as err:\n",
    "        print('Erro em fix_dtype_func')\n",
    "        print(err)\n",
    "    return x\n",
    "\n",
    "# Viabiliza usar a função como um transformador do scikit-learn\n",
    "get_fix_dtype = FunctionTransformer(fix_dtype_func)"
   ]
  },
  {
   "cell_type": "code",
   "execution_count": 88,
   "id": "2e850d31",
   "metadata": {},
   "outputs": [
    {
     "name": "stdout",
     "output_type": "stream",
     "text": [
      "<class 'pandas.core.frame.DataFrame'>\n",
      "RangeIndex: 1630612 entries, 0 to 1630611\n",
      "Data columns (total 7 columns):\n",
      " #   Column      Non-Null Count    Dtype         \n",
      "---  ------      --------------    -----         \n",
      " 0   ID_VENDA    1630612 non-null  int64         \n",
      " 1   DT_VENDA    1630612 non-null  datetime64[ns]\n",
      " 2   LOJA        1630612 non-null  object        \n",
      " 3   QTD_SKU     1630612 non-null  int32         \n",
      " 4   VALOR       1630612 non-null  float64       \n",
      " 5   ID_CLIENTE  1630612 non-null  object        \n",
      " 6   CANAL       1630612 non-null  object        \n",
      "dtypes: datetime64[ns](1), float64(1), int32(1), int64(1), object(3)\n",
      "memory usage: 80.9+ MB\n"
     ]
    }
   ],
   "source": [
    "# cria um dataset aplicando a transformação\n",
    "df_type = get_fix_dtype.transform(df)\n",
    "df_type.info()"
   ]
  },
  {
   "cell_type": "markdown",
   "id": "4e29e099",
   "metadata": {},
   "source": [
    "## Feature de tempo"
   ]
  },
  {
   "cell_type": "markdown",
   "id": "cf73e637",
   "metadata": {},
   "source": [
    "Para facilitar a manipulação, vamos abrir a variável `DT_VENDAS` em `ANO`, `MES` e `DIA`:"
   ]
  },
  {
   "cell_type": "code",
   "execution_count": 103,
   "id": "19d3a7b9",
   "metadata": {},
   "outputs": [],
   "source": [
    "def time_features_func(x):\n",
    "    \"\"\" Cria colunas com ano, mês e dia das vendas\"\"\"\n",
    "    # cria cópia para não alterar o df original por acidente\n",
    "    x=x.copy()\n",
    "    try:\n",
    "        x['ANO'] = x['DT_VENDA'].dt.year\n",
    "        x['MES'] = x['DT_VENDA'].dt.month\n",
    "        x['DIA'] = x['DT_VENDA'].dt.day\n",
    "    except Exception as err:\n",
    "        print('Erro em fix_dtype_func')\n",
    "        print(err)\n",
    "    return x\n",
    "\n",
    "# Viabiliza usar a função como um transformador do scikit-learn\n",
    "get_time_features = FunctionTransformer(time_features_func)"
   ]
  },
  {
   "cell_type": "code",
   "execution_count": 95,
   "id": "3e6b43a6",
   "metadata": {},
   "outputs": [
    {
     "data": {
      "text/html": [
       "<div>\n",
       "<style scoped>\n",
       "    .dataframe tbody tr th:only-of-type {\n",
       "        vertical-align: middle;\n",
       "    }\n",
       "\n",
       "    .dataframe tbody tr th {\n",
       "        vertical-align: top;\n",
       "    }\n",
       "\n",
       "    .dataframe thead th {\n",
       "        text-align: right;\n",
       "    }\n",
       "</style>\n",
       "<table border=\"1\" class=\"dataframe\">\n",
       "  <thead>\n",
       "    <tr style=\"text-align: right;\">\n",
       "      <th></th>\n",
       "      <th>ID_VENDA</th>\n",
       "      <th>DT_VENDA</th>\n",
       "      <th>LOJA</th>\n",
       "      <th>QTD_SKU</th>\n",
       "      <th>VALOR</th>\n",
       "      <th>ID_CLIENTE</th>\n",
       "      <th>CANAL</th>\n",
       "      <th>ANO</th>\n",
       "      <th>MES</th>\n",
       "      <th>DIA</th>\n",
       "    </tr>\n",
       "  </thead>\n",
       "  <tbody>\n",
       "    <tr>\n",
       "      <th>0</th>\n",
       "      <td>1176550</td>\n",
       "      <td>2020-01-02</td>\n",
       "      <td>37</td>\n",
       "      <td>1</td>\n",
       "      <td>9.50</td>\n",
       "      <td>337763</td>\n",
       "      <td>FIS</td>\n",
       "      <td>2020</td>\n",
       "      <td>1</td>\n",
       "      <td>2</td>\n",
       "    </tr>\n",
       "    <tr>\n",
       "      <th>1</th>\n",
       "      <td>11683461</td>\n",
       "      <td>2020-01-02</td>\n",
       "      <td>15</td>\n",
       "      <td>1</td>\n",
       "      <td>6.64</td>\n",
       "      <td>195687</td>\n",
       "      <td>FIS</td>\n",
       "      <td>2020</td>\n",
       "      <td>1</td>\n",
       "      <td>2</td>\n",
       "    </tr>\n",
       "    <tr>\n",
       "      <th>2</th>\n",
       "      <td>3326484</td>\n",
       "      <td>2020-01-02</td>\n",
       "      <td>29</td>\n",
       "      <td>5</td>\n",
       "      <td>446.87</td>\n",
       "      <td>56059</td>\n",
       "      <td>FIS</td>\n",
       "      <td>2020</td>\n",
       "      <td>1</td>\n",
       "      <td>2</td>\n",
       "    </tr>\n",
       "    <tr>\n",
       "      <th>3</th>\n",
       "      <td>7317475</td>\n",
       "      <td>2020-01-02</td>\n",
       "      <td>18</td>\n",
       "      <td>1</td>\n",
       "      <td>6.13</td>\n",
       "      <td>297533</td>\n",
       "      <td>FIS</td>\n",
       "      <td>2020</td>\n",
       "      <td>1</td>\n",
       "      <td>2</td>\n",
       "    </tr>\n",
       "    <tr>\n",
       "      <th>4</th>\n",
       "      <td>4366938</td>\n",
       "      <td>2020-01-02</td>\n",
       "      <td>23</td>\n",
       "      <td>1</td>\n",
       "      <td>13.17</td>\n",
       "      <td>181284</td>\n",
       "      <td>FIS</td>\n",
       "      <td>2020</td>\n",
       "      <td>1</td>\n",
       "      <td>2</td>\n",
       "    </tr>\n",
       "  </tbody>\n",
       "</table>\n",
       "</div>"
      ],
      "text/plain": [
       "   ID_VENDA   DT_VENDA LOJA  QTD_SKU   VALOR ID_CLIENTE CANAL   ANO  MES  DIA\n",
       "0   1176550 2020-01-02   37        1    9.50     337763   FIS  2020    1    2\n",
       "1  11683461 2020-01-02   15        1    6.64     195687   FIS  2020    1    2\n",
       "2   3326484 2020-01-02   29        5  446.87      56059   FIS  2020    1    2\n",
       "3   7317475 2020-01-02   18        1    6.13     297533   FIS  2020    1    2\n",
       "4   4366938 2020-01-02   23        1   13.17     181284   FIS  2020    1    2"
      ]
     },
     "execution_count": 95,
     "metadata": {},
     "output_type": "execute_result"
    }
   ],
   "source": [
    "# cria um dataset aplicando a transformação\n",
    "df_time = get_time_features.transform(df_type)\n",
    "df_time.head()"
   ]
  },
  {
   "cell_type": "markdown",
   "id": "d4fc53fe",
   "metadata": {},
   "source": [
    "## Ticket médio de cada cliente\n",
    "\n",
    "O ticket médio de cada cliente pode ajudar a prever quanto este gastará nos próximos 90 dias. Vamos criar uma coluna com essa informação agrupada por diferentes critérios."
   ]
  },
  {
   "cell_type": "code",
   "execution_count": null,
   "id": "875dfc6c",
   "metadata": {},
   "outputs": [],
   "source": [
    "def ticket_medio(x):\n",
    "    x=x.copy()\n",
    "    "
   ]
  },
  {
   "cell_type": "code",
   "execution_count": null,
   "id": "1e68498e",
   "metadata": {},
   "outputs": [],
   "source": []
  },
  {
   "cell_type": "code",
   "execution_count": 212,
   "id": "1f08d1bb",
   "metadata": {},
   "outputs": [
    {
     "name": "stdout",
     "output_type": "stream",
     "text": [
      "ANO   MES\n",
      "2020  1       49.704415\n",
      "      2       51.873888\n",
      "      3       61.727801\n",
      "      4       97.819020\n",
      "      5      107.540680\n",
      "      6      101.716184\n",
      "      7       89.874623\n",
      "      8       88.526555\n",
      "      9       78.655404\n",
      "      10      76.976812\n",
      "      11      80.877278\n",
      "      12     108.262040\n",
      "Name: VALOR, dtype: float64\n",
      "ANO   MES\n",
      "2021  1      73.431423\n",
      "      2      74.172888\n",
      "Name: VALOR, dtype: float64\n"
     ]
    }
   ],
   "source": [
    "media_mes_20 = df_time.groupby(['ANO','MES'])['VALOR'].mean()[:12]\n",
    "print(media_mes_20)\n",
    "media_mes_21 = df_time.groupby(['ANO','MES'])['VALOR'].mean()[12:14]\n",
    "print(media_mes_21)\n",
    "#std_mes = df_time.groupby(['MES'])['VALOR'].std()\n",
    "#print(std_mes)"
   ]
  },
  {
   "cell_type": "code",
   "execution_count": 244,
   "id": "d9327ef0",
   "metadata": {},
   "outputs": [
    {
     "ename": "TypeError",
     "evalue": "'str' object is not callable",
     "output_type": "error",
     "traceback": [
      "\u001b[1;31m---------------------------------------------------------------------------\u001b[0m",
      "\u001b[1;31mTypeError\u001b[0m                                 Traceback (most recent call last)",
      "\u001b[1;32m~\\AppData\\Local\\Temp/ipykernel_13768/2761724071.py\u001b[0m in \u001b[0;36m<module>\u001b[1;34m\u001b[0m\n\u001b[0;32m      2\u001b[0m \u001b[0mlist_mes\u001b[0m\u001b[1;33m=\u001b[0m\u001b[1;33m[\u001b[0m\u001b[1;34m'Jan'\u001b[0m\u001b[1;33m,\u001b[0m\u001b[1;34m'Fev'\u001b[0m\u001b[1;33m,\u001b[0m\u001b[1;34m'Mar'\u001b[0m\u001b[1;33m,\u001b[0m \u001b[1;34m'Abr'\u001b[0m\u001b[1;33m,\u001b[0m\u001b[1;34m'Mai'\u001b[0m\u001b[1;33m,\u001b[0m \u001b[1;34m'Jun'\u001b[0m\u001b[1;33m,\u001b[0m \u001b[1;34m'Jul'\u001b[0m\u001b[1;33m,\u001b[0m\u001b[1;34m'Ago'\u001b[0m\u001b[1;33m,\u001b[0m\u001b[1;34m'Set'\u001b[0m\u001b[1;33m,\u001b[0m\u001b[1;34m'Out'\u001b[0m\u001b[1;33m,\u001b[0m\u001b[1;34m'Nov'\u001b[0m\u001b[1;33m,\u001b[0m\u001b[1;34m'Dec'\u001b[0m\u001b[1;33m]\u001b[0m\u001b[1;33m\u001b[0m\u001b[1;33m\u001b[0m\u001b[0m\n\u001b[0;32m      3\u001b[0m \u001b[0msns\u001b[0m\u001b[1;33m.\u001b[0m\u001b[0mlineplot\u001b[0m\u001b[1;33m(\u001b[0m\u001b[0my\u001b[0m\u001b[1;33m=\u001b[0m\u001b[0mmedia_mes_20\u001b[0m\u001b[1;33m,\u001b[0m\u001b[0mx\u001b[0m\u001b[1;33m=\u001b[0m\u001b[0mlist_mes\u001b[0m\u001b[1;33m,\u001b[0m\u001b[0max\u001b[0m\u001b[1;33m=\u001b[0m\u001b[0max\u001b[0m\u001b[1;33m,\u001b[0m\u001b[0mmarker\u001b[0m\u001b[1;33m=\u001b[0m\u001b[1;34m'o'\u001b[0m\u001b[1;33m,\u001b[0m \u001b[0mlinewidth\u001b[0m\u001b[1;33m=\u001b[0m\u001b[1;36m10\u001b[0m\u001b[1;33m)\u001b[0m\u001b[1;33m\u001b[0m\u001b[1;33m\u001b[0m\u001b[0m\n\u001b[1;32m----> 4\u001b[1;33m \u001b[0mplt\u001b[0m\u001b[1;33m.\u001b[0m\u001b[0mtitle\u001b[0m\u001b[1;33m(\u001b[0m\u001b[1;34m'Média de vendas por mês'\u001b[0m\u001b[1;33m)\u001b[0m\u001b[1;33m\u001b[0m\u001b[1;33m\u001b[0m\u001b[0m\n\u001b[0m\u001b[0;32m      5\u001b[0m \u001b[0mplt\u001b[0m\u001b[1;33m.\u001b[0m\u001b[0mshow\u001b[0m\u001b[1;33m(\u001b[0m\u001b[1;33m)\u001b[0m\u001b[1;33m\u001b[0m\u001b[1;33m\u001b[0m\u001b[0m\n",
      "\u001b[1;31mTypeError\u001b[0m: 'str' object is not callable"
     ]
    },
    {
     "data": {
      "image/png": "[encoded data removed]",
      "text/plain": [
       "<Figure size 1440x720 with 1 Axes>"
      ]
     },
     "metadata": {},
     "output_type": "display_data"
    }
   ],
   "source": [
    "fig, ax = plt.subplots(1,figsize=(20,10))\n",
    "list_mes=['Jan','Fev','Mar', 'Abr','Mai', 'Jun', 'Jul','Ago','Set','Out','Nov','Dec']\n",
    "sns.lineplot(y=media_mes_20,x=list_mes,ax=ax,marker='o', linewidth=10)\n",
    "plt.title('Média de vendas por mês')\n",
    "plt.show()"
   ]
  },
  {
   "cell_type": "code",
   "execution_count": null,
   "id": "a0d1a11e",
   "metadata": {},
   "outputs": [],
   "source": []
  }
 ],
 "metadata": {
  "kernelspec": {
   "display_name": "Python 3 (ipykernel)",
   "language": "python",
   "name": "python3"
  },
  "language_info": {
   "codemirror_mode": {
    "name": "ipython",
    "version": 3
   },
   "file_extension": ".py",
   "mimetype": "text/x-python",
   "name": "python",
   "nbconvert_exporter": "python",
   "pygments_lexer": "ipython3",
   "version": "3.8.10"
  }
 },
 "nbformat": 4,
 "nbformat_minor": 5
}
