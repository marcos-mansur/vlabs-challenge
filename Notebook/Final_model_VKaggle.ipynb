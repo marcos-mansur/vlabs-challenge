{
 "cells": [
  {
   "cell_type": "markdown",
   "id": "5a660d81",
   "metadata": {
    "papermill": {
     "duration": 0.023016,
     "end_time": "2021-10-17T06:35:29.169259",
     "exception": false,
     "start_time": "2021-10-17T06:35:29.146243",
     "status": "completed"
    },
    "tags": []
   },
   "source": [
    "# Olá!\n",
    "\n",
    "Este é o meu notebook e é fruto do trabalho conjunto da equipe \"Resiliência em ML\" para a competição VLabs Data Challenge, onde deseja-se prever o LTV dos próximos 90 dias aberto por cliente a partir de 14 meses de dados de compras em diferentes canais. \n",
    "\n",
    "A equipe é composta por:\n",
    "- Marcos Mansur\n",
    "- Thiago Ouverney\n",
    "- Aron Alvernaz\n",
    "- Lucas Valim\n",
    "\n",
    "Esse notebook retrata o modelo com melhor score que fizemos."
   ]
  },
  {
   "cell_type": "markdown",
   "id": "237eb467",
   "metadata": {
    "papermill": {
     "duration": 0.020732,
     "end_time": "2021-10-17T06:35:29.213081",
     "exception": false,
     "start_time": "2021-10-17T06:35:29.192349",
     "status": "completed"
    },
    "tags": []
   },
   "source": [
    "# Carregar Libs"
   ]
  },
  {
   "cell_type": "code",
   "execution_count": 1,
   "id": "f19a66bd",
   "metadata": {
    "execution": {
     "iopub.execute_input": "2021-10-17T06:35:29.263601Z",
     "iopub.status.busy": "2021-10-17T06:35:29.262939Z",
     "iopub.status.idle": "2021-10-17T06:35:30.327295Z",
     "shell.execute_reply": "2021-10-17T06:35:30.326076Z",
     "shell.execute_reply.started": "2021-10-17T05:40:19.488213Z"
    },
    "papermill": {
     "duration": 1.093408,
     "end_time": "2021-10-17T06:35:30.327476",
     "exception": false,
     "start_time": "2021-10-17T06:35:29.234068",
     "status": "completed"
    },
    "tags": []
   },
   "outputs": [],
   "source": [
    "import pandas as pd\n",
    "import numpy as np\n",
    "import matplotlib.pyplot as plt\n",
    "from sklearn.model_selection import cross_val_score, train_test_split, learning_curve, GridSearchCV\n",
    "from sklearn.metrics import mean_squared_error\n",
    "from sklearn.linear_model import LinearRegression, ElasticNet\n",
    "from sklearn.base import BaseEstimator, TransformerMixin\n",
    "from sklearn.preprocessing import FunctionTransformer\n",
    "from sklearn.pipeline import make_pipeline\n"
   ]
  },
  {
   "cell_type": "markdown",
   "id": "589b53de",
   "metadata": {
    "papermill": {
     "duration": 0.020526,
     "end_time": "2021-10-17T06:35:30.368660",
     "exception": false,
     "start_time": "2021-10-17T06:35:30.348134",
     "status": "completed"
    },
    "tags": []
   },
   "source": [
    "# Carregar dados"
   ]
  },
  {
   "cell_type": "code",
   "execution_count": 2,
   "id": "b0b148e6",
   "metadata": {
    "_cell_guid": "b1076dfc-b9ad-4769-8c92-a6c4dae69d19",
    "_uuid": "8f2839f25d086af736a60e9eeb907d3b93b6e0e5",
    "execution": {
     "iopub.execute_input": "2021-10-17T06:35:30.414791Z",
     "iopub.status.busy": "2021-10-17T06:35:30.414019Z",
     "iopub.status.idle": "2021-10-17T06:35:30.420855Z",
     "shell.execute_reply": "2021-10-17T06:35:30.421484Z",
     "shell.execute_reply.started": "2021-10-17T04:34:13.083098Z"
    },
    "papermill": {
     "duration": 0.032652,
     "end_time": "2021-10-17T06:35:30.421655",
     "exception": false,
     "start_time": "2021-10-17T06:35:30.389003",
     "status": "completed"
    },
    "tags": []
   },
   "outputs": [
    {
     "name": "stdout",
     "output_type": "stream",
     "text": [
      "/kaggle/input/VLabs-DC/sales_20_21_train.csv\n",
      "/kaggle/input/VLabs-DC/sample_submission.csv\n"
     ]
    }
   ],
   "source": [
    "# This Python 3 environment comes with many helpful analytics libraries installed\n",
    "# It is defined by the kaggle/python Docker image: https://github.com/kaggle/docker-python\n",
    "\n",
    "import os\n",
    "for dirname, _, filenames in os.walk('/kaggle/input'):\n",
    "    for filename in filenames:\n",
    "        print(os.path.join(dirname, filename))"
   ]
  },
  {
   "cell_type": "code",
   "execution_count": 3,
   "id": "7166057c",
   "metadata": {
    "execution": {
     "iopub.execute_input": "2021-10-17T06:35:30.467289Z",
     "iopub.status.busy": "2021-10-17T06:35:30.466324Z",
     "iopub.status.idle": "2021-10-17T06:35:32.382031Z",
     "shell.execute_reply": "2021-10-17T06:35:32.381515Z",
     "shell.execute_reply.started": "2021-10-17T04:36:28.921212Z"
    },
    "papermill": {
     "duration": 1.939581,
     "end_time": "2021-10-17T06:35:32.382205",
     "exception": false,
     "start_time": "2021-10-17T06:35:30.442624",
     "status": "completed"
    },
    "tags": []
   },
   "outputs": [],
   "source": [
    "df = pd.read_csv('/kaggle/input/VLabs-DC/sales_20_21_train.csv', header=0, parse_dates=['DT_VENDA'])\n",
    "# df = pd.read_csv('https://raw.githubusercontent.com/marcos-mansur/vlabs-challenge/main/Data/sales_20_21_train.csv', header=0, parse_dates=['DT_VENDA'])\n",
    "df_sub = pd.read_csv('/kaggle/input/VLabs-DC/sample_submission.csv',header=0)"
   ]
  },
  {
   "cell_type": "code",
   "execution_count": 4,
   "id": "febe3bb3",
   "metadata": {
    "execution": {
     "iopub.execute_input": "2021-10-17T06:35:32.431449Z",
     "iopub.status.busy": "2021-10-17T06:35:32.430774Z",
     "iopub.status.idle": "2021-10-17T06:35:32.443825Z",
     "shell.execute_reply": "2021-10-17T06:35:32.444313Z",
     "shell.execute_reply.started": "2021-10-17T06:08:27.953885Z"
    },
    "papermill": {
     "duration": 0.041557,
     "end_time": "2021-10-17T06:35:32.444488",
     "exception": false,
     "start_time": "2021-10-17T06:35:32.402931",
     "status": "completed"
    },
    "tags": []
   },
   "outputs": [
    {
     "data": {
      "text/html": [
       "<div>\n",
       "<style scoped>\n",
       "    .dataframe tbody tr th:only-of-type {\n",
       "        vertical-align: middle;\n",
       "    }\n",
       "\n",
       "    .dataframe tbody tr th {\n",
       "        vertical-align: top;\n",
       "    }\n",
       "\n",
       "    .dataframe thead th {\n",
       "        text-align: right;\n",
       "    }\n",
       "</style>\n",
       "<table border=\"1\" class=\"dataframe\">\n",
       "  <thead>\n",
       "    <tr style=\"text-align: right;\">\n",
       "      <th></th>\n",
       "      <th>ID_VENDA</th>\n",
       "      <th>DT_VENDA</th>\n",
       "      <th>LOJA</th>\n",
       "      <th>QTD_SKU</th>\n",
       "      <th>VALOR</th>\n",
       "      <th>ID_CLIENTE</th>\n",
       "      <th>CANAL</th>\n",
       "    </tr>\n",
       "  </thead>\n",
       "  <tbody>\n",
       "    <tr>\n",
       "      <th>0</th>\n",
       "      <td>1176550</td>\n",
       "      <td>2020-01-02</td>\n",
       "      <td>37</td>\n",
       "      <td>1</td>\n",
       "      <td>9.50</td>\n",
       "      <td>337763</td>\n",
       "      <td>FIS</td>\n",
       "    </tr>\n",
       "    <tr>\n",
       "      <th>1</th>\n",
       "      <td>11683461</td>\n",
       "      <td>2020-01-02</td>\n",
       "      <td>15</td>\n",
       "      <td>1</td>\n",
       "      <td>6.64</td>\n",
       "      <td>195687</td>\n",
       "      <td>FIS</td>\n",
       "    </tr>\n",
       "    <tr>\n",
       "      <th>2</th>\n",
       "      <td>3326484</td>\n",
       "      <td>2020-01-02</td>\n",
       "      <td>29</td>\n",
       "      <td>5</td>\n",
       "      <td>446.87</td>\n",
       "      <td>56059</td>\n",
       "      <td>FIS</td>\n",
       "    </tr>\n",
       "    <tr>\n",
       "      <th>3</th>\n",
       "      <td>7317475</td>\n",
       "      <td>2020-01-02</td>\n",
       "      <td>18</td>\n",
       "      <td>1</td>\n",
       "      <td>6.13</td>\n",
       "      <td>297533</td>\n",
       "      <td>FIS</td>\n",
       "    </tr>\n",
       "    <tr>\n",
       "      <th>4</th>\n",
       "      <td>4366938</td>\n",
       "      <td>2020-01-02</td>\n",
       "      <td>23</td>\n",
       "      <td>1</td>\n",
       "      <td>13.17</td>\n",
       "      <td>181284</td>\n",
       "      <td>FIS</td>\n",
       "    </tr>\n",
       "  </tbody>\n",
       "</table>\n",
       "</div>"
      ],
      "text/plain": [
       "   ID_VENDA   DT_VENDA  LOJA  QTD_SKU   VALOR  ID_CLIENTE CANAL\n",
       "0   1176550 2020-01-02    37        1    9.50      337763   FIS\n",
       "1  11683461 2020-01-02    15        1    6.64      195687   FIS\n",
       "2   3326484 2020-01-02    29        5  446.87       56059   FIS\n",
       "3   7317475 2020-01-02    18        1    6.13      297533   FIS\n",
       "4   4366938 2020-01-02    23        1   13.17      181284   FIS"
      ]
     },
     "execution_count": 4,
     "metadata": {},
     "output_type": "execute_result"
    }
   ],
   "source": [
    "df.head()"
   ]
  },
  {
   "cell_type": "markdown",
   "id": "47f874fa",
   "metadata": {
    "papermill": {
     "duration": 0.020857,
     "end_time": "2021-10-17T06:35:32.486721",
     "exception": false,
     "start_time": "2021-10-17T06:35:32.465864",
     "status": "completed"
    },
    "tags": []
   },
   "source": [
    "# Funções"
   ]
  },
  {
   "cell_type": "markdown",
   "id": "88bea879",
   "metadata": {
    "papermill": {
     "duration": 0.020903,
     "end_time": "2021-10-17T06:35:32.531576",
     "exception": false,
     "start_time": "2021-10-17T06:35:32.510673",
     "status": "completed"
    },
    "tags": []
   },
   "source": [
    "## Plot curvas de aprendizado"
   ]
  },
  {
   "cell_type": "code",
   "execution_count": 5,
   "id": "e18e2df2",
   "metadata": {
    "execution": {
     "iopub.execute_input": "2021-10-17T06:35:32.576569Z",
     "iopub.status.busy": "2021-10-17T06:35:32.575879Z",
     "iopub.status.idle": "2021-10-17T06:35:32.585559Z",
     "shell.execute_reply": "2021-10-17T06:35:32.586075Z",
     "shell.execute_reply.started": "2021-10-17T05:40:55.852792Z"
    },
    "papermill": {
     "duration": 0.033832,
     "end_time": "2021-10-17T06:35:32.586271",
     "exception": false,
     "start_time": "2021-10-17T06:35:32.552439",
     "status": "completed"
    },
    "tags": []
   },
   "outputs": [],
   "source": [
    "def plot_learning_curve(estimator, title, X, y, axes=None, ylim=None, cv=None,\n",
    "                        n_jobs=None, train_sizes=np.linspace(.1, 1.0, 5)):\n",
    "    \"\"\"\n",
    "    Generate plot: learning curve\n",
    "\n",
    "    \"\"\"\n",
    "    if axes is None:\n",
    "        _, axes = plt.subplots(1, figsize=(20, 10))\n",
    "\n",
    "    axes.set_title(title)\n",
    "    if ylim is not None:\n",
    "        axes.set_ylim(*ylim)\n",
    "    axes.set_xlabel(\"Training examples\")\n",
    "    axes.set_ylabel(\"Score\")\n",
    "\n",
    "    train_sizes, train_scores, test_scores, fit_times, _ = \\\n",
    "        learning_curve(estimator, X, y, cv=cv, n_jobs=n_jobs,\n",
    "                       train_sizes=train_sizes, scoring='neg_root_mean_squared_error',\n",
    "                       return_times=True)\n",
    "    train_scores_mean = np.mean(train_scores, axis=1)\n",
    "    train_scores_std = np.std(train_scores, axis=1)\n",
    "    test_scores_mean = np.mean(test_scores, axis=1)\n",
    "    test_scores_std = np.std(test_scores, axis=1)\n",
    "    fit_times_mean = np.mean(fit_times, axis=1)\n",
    "    fit_times_std = np.std(fit_times, axis=1)\n",
    "\n",
    "    # Plot learning curve\n",
    "    axes.grid()\n",
    "    # plot intervalos de spread \n",
    "    axes.fill_between(train_sizes, train_scores_mean - train_scores_std,\n",
    "                         train_scores_mean + train_scores_std, alpha=0.1,\n",
    "                         color=\"r\")\n",
    "    axes.fill_between(train_sizes, test_scores_mean - test_scores_std,\n",
    "                         test_scores_mean + test_scores_std, alpha=0.1,\n",
    "                         color=\"g\")\n",
    "    # curvas\n",
    "    axes.plot(train_sizes, train_scores_mean, 'o-', color=\"r\",\n",
    "                 label=\"Training score\")\n",
    "    axes.plot(train_sizes, test_scores_mean, 'o-', color=\"g\",\n",
    "                 label=\"Cross-validation score\")\n",
    "    axes.legend(loc=\"best\")\n",
    "    return plt"
   ]
  },
  {
   "cell_type": "markdown",
   "id": "577c71b7",
   "metadata": {
    "papermill": {
     "duration": 0.020607,
     "end_time": "2021-10-17T06:35:32.628013",
     "exception": false,
     "start_time": "2021-10-17T06:35:32.607406",
     "status": "completed"
    },
    "tags": []
   },
   "source": [
    "## Pré-processamento"
   ]
  },
  {
   "cell_type": "code",
   "execution_count": 6,
   "id": "5c4b01ad",
   "metadata": {
    "execution": {
     "iopub.execute_input": "2021-10-17T06:35:32.672741Z",
     "iopub.status.busy": "2021-10-17T06:35:32.672053Z",
     "iopub.status.idle": "2021-10-17T06:35:32.686793Z",
     "shell.execute_reply": "2021-10-17T06:35:32.687344Z",
     "shell.execute_reply.started": "2021-10-17T05:46:30.929113Z"
    },
    "papermill": {
     "duration": 0.038715,
     "end_time": "2021-10-17T06:35:32.687520",
     "exception": false,
     "start_time": "2021-10-17T06:35:32.648805",
     "status": "completed"
    },
    "tags": []
   },
   "outputs": [],
   "source": [
    "def split_per_dates(df,train_start,target_start, sub_start):\n",
    "    \" divide os dados de treino, validação e submissão por data\"\n",
    "    # target do treinamento\n",
    "    df_target = df[df.DT_VENDA > target_start]\n",
    "    y_train = df_target.groupby('ID_CLIENTE')['VALOR'].sum()\n",
    "    # dados de treinamento\n",
    "    df_train = df[(df['DT_VENDA']>train_start) & (df['DT_VENDA']<target_start)].copy()\n",
    "    # dados para previsão\n",
    "    df_test = df[df['DT_VENDA']>sub_start]\n",
    "    return df_train, y_train, df_test\n",
    "\n",
    "def treated_data(df_pp):\n",
    "    \" transforma o dataset aberto por compras ordenado no tempo \"\n",
    "    \" em um dataset por cliente e cria features úteis\"\n",
    "    \n",
    "    # intervalos de tempo\n",
    "    delta90 = pd.to_timedelta(90,unit='d')\n",
    "    delta120 = pd.to_timedelta(120,unit='d')\n",
    "    delta150 = pd.to_timedelta(150,unit='d')\n",
    "    delta180 = pd.to_timedelta(180,unit='d')\n",
    "    delta360 = pd.to_timedelta(360,unit='d')\n",
    "    delta270 = pd.to_timedelta(270,unit='d')\n",
    "\n",
    "    DICT_AUX_DATAS = {'90':delta90,\n",
    "                      '120':delta120,\n",
    "                      '150':delta150,\n",
    "                      '180':delta180}\n",
    "\n",
    "    max_date = df_pp['DT_VENDA'].max()\n",
    "    \n",
    "    #agrupar por cliente somando o valor\n",
    "    cust_revenue = df_pp.groupby(['ID_CLIENTE'])['VALOR'].sum().copy()\n",
    "    # transformar em df\n",
    "    cust_rev = pd.DataFrame(cust_revenue)\n",
    "    # feature com número de compras feitas no período de teste\n",
    "    cust_rev['Frequency'] = df_pp.groupby(['ID_CLIENTE'])['ID_VENDA'].count()\n",
    "\n",
    "\n",
    "    # media entre os valores das compras de cada cliente\n",
    "    cust_rev['valor medio'] = df_pp.groupby('ID_CLIENTE')['VALOR'].mean()\n",
    "    # mediana\n",
    "    cust_rev['valor mediana'] = df_pp.groupby('ID_CLIENTE')['VALOR'].median()\n",
    "    # desvio padrao\n",
    "    cust_rev['valor desvio'] = df_pp.groupby('ID_CLIENTE')['VALOR'].std()\n",
    "    \n",
    "    \n",
    "    # data da ultima compra\n",
    "    cust_rev['Recency'] = max_date - df_pp.groupby(['ID_CLIENTE'])['DT_VENDA'].max()\n",
    "    cust_rev['Recency'] = cust_rev['Recency'].apply(lambda x: x.days)\n",
    "    \n",
    "    # soma e média do VALOR de diferentes períodos de cada cliente    \n",
    "    for item, valor in DICT_AUX_DATAS.items():\n",
    "        cust_rev[f'valor_{item}m'] = df_pp[\n",
    "              df_pp['DT_VENDA']>(df_pp['DT_VENDA'].max() - valor)].groupby(['ID_CLIENTE'])['VALOR'].sum()\n",
    "        cust_rev[f'valormedio_{item}m'] = df_pp[\n",
    "              df_pp['DT_VENDA']>(df_pp['DT_VENDA'].max() - valor)].groupby(['ID_CLIENTE'])['VALOR'].mean()\n",
    "\n",
    "    # soma do valor de 3 meses há 1 ano atrás \n",
    "    ref = df_pp['DT_VENDA'].max()\n",
    "    cust_rev[f'valorsum_1ano_atras_m'] = df_pp[\n",
    "            (df_pp['DT_VENDA'] < (ref - delta270) ) &\n",
    "           (df_pp['DT_VENDA'] > (ref - delta360) )\n",
    "            ].groupby(['ID_CLIENTE'])['VALOR'].sum()\n",
    "            \n",
    "    return cust_rev.fillna(0)\n",
    "\n",
    "def transform_df(df):\n",
    "    df = df.copy()\n",
    "    \n",
    "    # divide os dados de treino e previsão pela data\n",
    "    df_train, target_train, df_test = split_per_dates(df,train_start,target_start,sub_start)\n",
    "    # modifica o df e cria features nos dados de treino\n",
    "    df_train1 = treated_data(df_train)\n",
    "    # para alinhar o index do target do treino com os dados de treino\n",
    "    df_train2 = df_train1.join(other=target_train, on='ID_CLIENTE', lsuffix='_sum', rsuffix='_TARGET')\n",
    "    x_train = df_train2.drop('VALOR_TARGET',axis=1)\n",
    "    y_train = df_train2.VALOR_TARGET.fillna(0)\n",
    "    \n",
    "    # modifica o df e cria features nos dados de test\n",
    "    x_test = treated_data(df_test)\n",
    "    return x_train, y_train, x_test"
   ]
  },
  {
   "cell_type": "markdown",
   "id": "1c257187",
   "metadata": {
    "papermill": {
     "duration": 0.020737,
     "end_time": "2021-10-17T06:35:32.729330",
     "exception": false,
     "start_time": "2021-10-17T06:35:32.708593",
     "status": "completed"
    },
    "tags": []
   },
   "source": [
    "# Estratégia\n",
    "\n",
    "Primeiro, vamos dividir os dados por data em x de treino (período dos dados para treinar o modelo), y de treino (o período do target do treino) e x de teste (o período para gerar a previsão dos próximos 90 dias).\n",
    "\n",
    "Para treinar o modelo, usaremos todo os dados menos as compras dos ultimos 90 dias, que serão o target do trieno. Para explicitar a tendência mais recente dos dados para o modelo, agrupamos os valores dos últimos 3, 4, 5 e 6 meses criado features (variáveis) com a soma, média e desvio padrão do valor das compras nesses períodos. Afim de transmitir a sazonalidade anual para o modelo, criamos uma feature com a soma das compras dos 3 meses do ano anterior. Essa última melhorou a performance significativamente. "
   ]
  },
  {
   "cell_type": "code",
   "execution_count": 7,
   "id": "5220da2b",
   "metadata": {
    "execution": {
     "iopub.execute_input": "2021-10-17T06:35:32.774563Z",
     "iopub.status.busy": "2021-10-17T06:35:32.773872Z",
     "iopub.status.idle": "2021-10-17T06:35:32.788265Z",
     "shell.execute_reply": "2021-10-17T06:35:32.787172Z",
     "shell.execute_reply.started": "2021-10-17T05:40:30.356329Z"
    },
    "papermill": {
     "duration": 0.037923,
     "end_time": "2021-10-17T06:35:32.788413",
     "exception": false,
     "start_time": "2021-10-17T06:35:32.750490",
     "status": "completed"
    },
    "tags": []
   },
   "outputs": [],
   "source": [
    "# intervalo de 90 dias\n",
    "delta90 = pd.to_timedelta(90,unit='d')\n",
    "# data mais recente do dataset\n",
    "max_date = df['DT_VENDA'].max()\n",
    "# data de início do target\n",
    "target_start = max_date - delta90\n",
    "# data de início dos dados de treino\n",
    "train_start = target_start - 5*delta90\n",
    "# data de início dos dados de previsão (submissão)\n",
    "sub_start = max_date - 5*delta90"
   ]
  },
  {
   "cell_type": "markdown",
   "id": "dfe81b1f",
   "metadata": {
    "execution": {
     "iopub.execute_input": "2021-10-17T04:39:03.237208Z",
     "iopub.status.busy": "2021-10-17T04:39:03.236387Z",
     "iopub.status.idle": "2021-10-17T04:39:03.243496Z",
     "shell.execute_reply": "2021-10-17T04:39:03.242352Z",
     "shell.execute_reply.started": "2021-10-17T04:39:03.237155Z"
    },
    "papermill": {
     "duration": 0.020726,
     "end_time": "2021-10-17T06:35:32.830580",
     "exception": false,
     "start_time": "2021-10-17T06:35:32.809854",
     "status": "completed"
    },
    "tags": []
   },
   "source": [
    "# Pré-processamento\n",
    "\n",
    "Transformar o dataset original no formato próprio para previsão."
   ]
  },
  {
   "cell_type": "code",
   "execution_count": 8,
   "id": "f247b889",
   "metadata": {
    "execution": {
     "iopub.execute_input": "2021-10-17T06:35:32.880054Z",
     "iopub.status.busy": "2021-10-17T06:35:32.878081Z",
     "iopub.status.idle": "2021-10-17T06:35:40.641417Z",
     "shell.execute_reply": "2021-10-17T06:35:40.640836Z",
     "shell.execute_reply.started": "2021-10-17T05:46:39.756568Z"
    },
    "papermill": {
     "duration": 7.790031,
     "end_time": "2021-10-17T06:35:40.641554",
     "exception": false,
     "start_time": "2021-10-17T06:35:32.851523",
     "status": "completed"
    },
    "tags": []
   },
   "outputs": [],
   "source": [
    "x_train_total, y_train_total, x_test = transform_df(df)\n",
    "x_train_split, x_test_split, y_train_split, y_test_split = train_test_split(x_train_total, \n",
    "                                                                            y_train_total, \n",
    "                                                                            random_state=0,\n",
    "                                                                            test_size=0.3)"
   ]
  },
  {
   "cell_type": "code",
   "execution_count": 9,
   "id": "0822ee66",
   "metadata": {
    "execution": {
     "iopub.execute_input": "2021-10-17T06:35:40.702890Z",
     "iopub.status.busy": "2021-10-17T06:35:40.702044Z",
     "iopub.status.idle": "2021-10-17T06:35:40.705858Z",
     "shell.execute_reply": "2021-10-17T06:35:40.705387Z",
     "shell.execute_reply.started": "2021-10-17T05:46:59.751755Z"
    },
    "papermill": {
     "duration": 0.043428,
     "end_time": "2021-10-17T06:35:40.705995",
     "exception": false,
     "start_time": "2021-10-17T06:35:40.662567",
     "status": "completed"
    },
    "tags": []
   },
   "outputs": [
    {
     "data": {
      "text/html": [
       "<div>\n",
       "<style scoped>\n",
       "    .dataframe tbody tr th:only-of-type {\n",
       "        vertical-align: middle;\n",
       "    }\n",
       "\n",
       "    .dataframe tbody tr th {\n",
       "        vertical-align: top;\n",
       "    }\n",
       "\n",
       "    .dataframe thead th {\n",
       "        text-align: right;\n",
       "    }\n",
       "</style>\n",
       "<table border=\"1\" class=\"dataframe\">\n",
       "  <thead>\n",
       "    <tr style=\"text-align: right;\">\n",
       "      <th></th>\n",
       "      <th>VALOR_sum</th>\n",
       "      <th>Frequency</th>\n",
       "      <th>valor medio</th>\n",
       "      <th>valor mediana</th>\n",
       "      <th>valor desvio</th>\n",
       "      <th>Recency</th>\n",
       "      <th>valor_90m</th>\n",
       "      <th>valormedio_90m</th>\n",
       "      <th>valor_120m</th>\n",
       "      <th>valormedio_120m</th>\n",
       "      <th>valor_150m</th>\n",
       "      <th>valormedio_150m</th>\n",
       "      <th>valor_180m</th>\n",
       "      <th>valormedio_180m</th>\n",
       "      <th>valorsum_1ano_atras_m</th>\n",
       "    </tr>\n",
       "    <tr>\n",
       "      <th>ID_CLIENTE</th>\n",
       "      <th></th>\n",
       "      <th></th>\n",
       "      <th></th>\n",
       "      <th></th>\n",
       "      <th></th>\n",
       "      <th></th>\n",
       "      <th></th>\n",
       "      <th></th>\n",
       "      <th></th>\n",
       "      <th></th>\n",
       "      <th></th>\n",
       "      <th></th>\n",
       "      <th></th>\n",
       "      <th></th>\n",
       "      <th></th>\n",
       "    </tr>\n",
       "  </thead>\n",
       "  <tbody>\n",
       "    <tr>\n",
       "      <th>0</th>\n",
       "      <td>266.94</td>\n",
       "      <td>1</td>\n",
       "      <td>266.940000</td>\n",
       "      <td>266.940</td>\n",
       "      <td>0.000000</td>\n",
       "      <td>56</td>\n",
       "      <td>266.94</td>\n",
       "      <td>266.94</td>\n",
       "      <td>266.94</td>\n",
       "      <td>266.94</td>\n",
       "      <td>266.94</td>\n",
       "      <td>266.94</td>\n",
       "      <td>266.94</td>\n",
       "      <td>266.94</td>\n",
       "      <td>0.00</td>\n",
       "    </tr>\n",
       "    <tr>\n",
       "      <th>2</th>\n",
       "      <td>426.45</td>\n",
       "      <td>4</td>\n",
       "      <td>106.612500</td>\n",
       "      <td>105.285</td>\n",
       "      <td>75.738965</td>\n",
       "      <td>151</td>\n",
       "      <td>0.00</td>\n",
       "      <td>0.00</td>\n",
       "      <td>0.00</td>\n",
       "      <td>0.00</td>\n",
       "      <td>0.00</td>\n",
       "      <td>0.00</td>\n",
       "      <td>104.69</td>\n",
       "      <td>104.69</td>\n",
       "      <td>121.08</td>\n",
       "    </tr>\n",
       "    <tr>\n",
       "      <th>3</th>\n",
       "      <td>215.06</td>\n",
       "      <td>3</td>\n",
       "      <td>71.686667</td>\n",
       "      <td>42.790</td>\n",
       "      <td>61.268823</td>\n",
       "      <td>104</td>\n",
       "      <td>0.00</td>\n",
       "      <td>0.00</td>\n",
       "      <td>30.21</td>\n",
       "      <td>30.21</td>\n",
       "      <td>30.21</td>\n",
       "      <td>30.21</td>\n",
       "      <td>30.21</td>\n",
       "      <td>30.21</td>\n",
       "      <td>184.85</td>\n",
       "    </tr>\n",
       "    <tr>\n",
       "      <th>4</th>\n",
       "      <td>714.65</td>\n",
       "      <td>7</td>\n",
       "      <td>102.092857</td>\n",
       "      <td>46.440</td>\n",
       "      <td>167.318644</td>\n",
       "      <td>16</td>\n",
       "      <td>532.64</td>\n",
       "      <td>266.32</td>\n",
       "      <td>532.64</td>\n",
       "      <td>266.32</td>\n",
       "      <td>532.64</td>\n",
       "      <td>266.32</td>\n",
       "      <td>532.64</td>\n",
       "      <td>266.32</td>\n",
       "      <td>111.51</td>\n",
       "    </tr>\n",
       "    <tr>\n",
       "      <th>5</th>\n",
       "      <td>47.19</td>\n",
       "      <td>1</td>\n",
       "      <td>47.190000</td>\n",
       "      <td>47.190</td>\n",
       "      <td>0.000000</td>\n",
       "      <td>237</td>\n",
       "      <td>0.00</td>\n",
       "      <td>0.00</td>\n",
       "      <td>0.00</td>\n",
       "      <td>0.00</td>\n",
       "      <td>0.00</td>\n",
       "      <td>0.00</td>\n",
       "      <td>0.00</td>\n",
       "      <td>0.00</td>\n",
       "      <td>0.00</td>\n",
       "    </tr>\n",
       "  </tbody>\n",
       "</table>\n",
       "</div>"
      ],
      "text/plain": [
       "            VALOR_sum  Frequency  valor medio  valor mediana  valor desvio  \\\n",
       "ID_CLIENTE                                                                   \n",
       "0              266.94          1   266.940000        266.940      0.000000   \n",
       "2              426.45          4   106.612500        105.285     75.738965   \n",
       "3              215.06          3    71.686667         42.790     61.268823   \n",
       "4              714.65          7   102.092857         46.440    167.318644   \n",
       "5               47.19          1    47.190000         47.190      0.000000   \n",
       "\n",
       "            Recency  valor_90m  valormedio_90m  valor_120m  valormedio_120m  \\\n",
       "ID_CLIENTE                                                                    \n",
       "0                56     266.94          266.94      266.94           266.94   \n",
       "2               151       0.00            0.00        0.00             0.00   \n",
       "3               104       0.00            0.00       30.21            30.21   \n",
       "4                16     532.64          266.32      532.64           266.32   \n",
       "5               237       0.00            0.00        0.00             0.00   \n",
       "\n",
       "            valor_150m  valormedio_150m  valor_180m  valormedio_180m  \\\n",
       "ID_CLIENTE                                                             \n",
       "0               266.94           266.94      266.94           266.94   \n",
       "2                 0.00             0.00      104.69           104.69   \n",
       "3                30.21            30.21       30.21            30.21   \n",
       "4               532.64           266.32      532.64           266.32   \n",
       "5                 0.00             0.00        0.00             0.00   \n",
       "\n",
       "            valorsum_1ano_atras_m  \n",
       "ID_CLIENTE                         \n",
       "0                            0.00  \n",
       "2                          121.08  \n",
       "3                          184.85  \n",
       "4                          111.51  \n",
       "5                            0.00  "
      ]
     },
     "execution_count": 9,
     "metadata": {},
     "output_type": "execute_result"
    }
   ],
   "source": [
    "x_train_total.head()"
   ]
  },
  {
   "cell_type": "code",
   "execution_count": 10,
   "id": "a65cdac4",
   "metadata": {
    "execution": {
     "iopub.execute_input": "2021-10-17T06:35:40.755509Z",
     "iopub.status.busy": "2021-10-17T06:35:40.754858Z",
     "iopub.status.idle": "2021-10-17T06:35:40.759360Z",
     "shell.execute_reply": "2021-10-17T06:35:40.758787Z",
     "shell.execute_reply.started": "2021-10-17T05:43:07.492754Z"
    },
    "papermill": {
     "duration": 0.032024,
     "end_time": "2021-10-17T06:35:40.759502",
     "exception": false,
     "start_time": "2021-10-17T06:35:40.727478",
     "status": "completed"
    },
    "tags": []
   },
   "outputs": [
    {
     "data": {
      "text/plain": [
       "ID_CLIENTE\n",
       "0    369.35\n",
       "2    235.81\n",
       "3      0.00\n",
       "4    557.22\n",
       "5      0.00\n",
       "Name: VALOR_TARGET, dtype: float64"
      ]
     },
     "execution_count": 10,
     "metadata": {},
     "output_type": "execute_result"
    }
   ],
   "source": [
    "y_train_total.head()"
   ]
  },
  {
   "cell_type": "code",
   "execution_count": 11,
   "id": "d682ab92",
   "metadata": {
    "execution": {
     "iopub.execute_input": "2021-10-17T06:35:40.806709Z",
     "iopub.status.busy": "2021-10-17T06:35:40.805880Z",
     "iopub.status.idle": "2021-10-17T06:35:40.822819Z",
     "shell.execute_reply": "2021-10-17T06:35:40.823356Z",
     "shell.execute_reply.started": "2021-10-17T05:42:49.482419Z"
    },
    "papermill": {
     "duration": 0.042086,
     "end_time": "2021-10-17T06:35:40.823526",
     "exception": false,
     "start_time": "2021-10-17T06:35:40.781440",
     "status": "completed"
    },
    "tags": []
   },
   "outputs": [
    {
     "data": {
      "text/html": [
       "<div>\n",
       "<style scoped>\n",
       "    .dataframe tbody tr th:only-of-type {\n",
       "        vertical-align: middle;\n",
       "    }\n",
       "\n",
       "    .dataframe tbody tr th {\n",
       "        vertical-align: top;\n",
       "    }\n",
       "\n",
       "    .dataframe thead th {\n",
       "        text-align: right;\n",
       "    }\n",
       "</style>\n",
       "<table border=\"1\" class=\"dataframe\">\n",
       "  <thead>\n",
       "    <tr style=\"text-align: right;\">\n",
       "      <th></th>\n",
       "      <th>VALOR</th>\n",
       "      <th>Frequency</th>\n",
       "      <th>valor medio</th>\n",
       "      <th>valor mediana</th>\n",
       "      <th>valor desvio</th>\n",
       "      <th>Recency</th>\n",
       "      <th>valor_90m</th>\n",
       "      <th>valormedio_90m</th>\n",
       "      <th>valor_120m</th>\n",
       "      <th>valormedio_120m</th>\n",
       "      <th>valor_150m</th>\n",
       "      <th>valormedio_150m</th>\n",
       "      <th>valor_180m</th>\n",
       "      <th>valormedio_180m</th>\n",
       "      <th>valorsum_1ano_atras_m</th>\n",
       "    </tr>\n",
       "    <tr>\n",
       "      <th>ID_CLIENTE</th>\n",
       "      <th></th>\n",
       "      <th></th>\n",
       "      <th></th>\n",
       "      <th></th>\n",
       "      <th></th>\n",
       "      <th></th>\n",
       "      <th></th>\n",
       "      <th></th>\n",
       "      <th></th>\n",
       "      <th></th>\n",
       "      <th></th>\n",
       "      <th></th>\n",
       "      <th></th>\n",
       "      <th></th>\n",
       "      <th></th>\n",
       "    </tr>\n",
       "  </thead>\n",
       "  <tbody>\n",
       "    <tr>\n",
       "      <th>0</th>\n",
       "      <td>636.29</td>\n",
       "      <td>2</td>\n",
       "      <td>318.145000</td>\n",
       "      <td>318.145</td>\n",
       "      <td>72.414805</td>\n",
       "      <td>84</td>\n",
       "      <td>369.35</td>\n",
       "      <td>369.350</td>\n",
       "      <td>369.35</td>\n",
       "      <td>369.350</td>\n",
       "      <td>636.29</td>\n",
       "      <td>318.145000</td>\n",
       "      <td>636.29</td>\n",
       "      <td>318.145000</td>\n",
       "      <td>0.00</td>\n",
       "    </tr>\n",
       "    <tr>\n",
       "      <th>2</th>\n",
       "      <td>662.26</td>\n",
       "      <td>6</td>\n",
       "      <td>110.376667</td>\n",
       "      <td>105.285</td>\n",
       "      <td>79.194434</td>\n",
       "      <td>49</td>\n",
       "      <td>235.81</td>\n",
       "      <td>117.905</td>\n",
       "      <td>235.81</td>\n",
       "      <td>117.905</td>\n",
       "      <td>235.81</td>\n",
       "      <td>117.905000</td>\n",
       "      <td>235.81</td>\n",
       "      <td>117.905000</td>\n",
       "      <td>200.68</td>\n",
       "    </tr>\n",
       "    <tr>\n",
       "      <th>3</th>\n",
       "      <td>215.06</td>\n",
       "      <td>3</td>\n",
       "      <td>71.686667</td>\n",
       "      <td>42.790</td>\n",
       "      <td>61.268823</td>\n",
       "      <td>195</td>\n",
       "      <td>0.00</td>\n",
       "      <td>0.000</td>\n",
       "      <td>0.00</td>\n",
       "      <td>0.000</td>\n",
       "      <td>0.00</td>\n",
       "      <td>0.000000</td>\n",
       "      <td>0.00</td>\n",
       "      <td>0.000000</td>\n",
       "      <td>0.00</td>\n",
       "    </tr>\n",
       "    <tr>\n",
       "      <th>4</th>\n",
       "      <td>1271.87</td>\n",
       "      <td>11</td>\n",
       "      <td>115.624545</td>\n",
       "      <td>59.010</td>\n",
       "      <td>134.009345</td>\n",
       "      <td>16</td>\n",
       "      <td>557.22</td>\n",
       "      <td>139.305</td>\n",
       "      <td>610.01</td>\n",
       "      <td>122.002</td>\n",
       "      <td>1089.86</td>\n",
       "      <td>181.643333</td>\n",
       "      <td>1089.86</td>\n",
       "      <td>181.643333</td>\n",
       "      <td>70.50</td>\n",
       "    </tr>\n",
       "    <tr>\n",
       "      <th>5</th>\n",
       "      <td>47.19</td>\n",
       "      <td>1</td>\n",
       "      <td>47.190000</td>\n",
       "      <td>47.190</td>\n",
       "      <td>0.000000</td>\n",
       "      <td>328</td>\n",
       "      <td>0.00</td>\n",
       "      <td>0.000</td>\n",
       "      <td>0.00</td>\n",
       "      <td>0.000</td>\n",
       "      <td>0.00</td>\n",
       "      <td>0.000000</td>\n",
       "      <td>0.00</td>\n",
       "      <td>0.000000</td>\n",
       "      <td>47.19</td>\n",
       "    </tr>\n",
       "  </tbody>\n",
       "</table>\n",
       "</div>"
      ],
      "text/plain": [
       "              VALOR  Frequency  valor medio  valor mediana  valor desvio  \\\n",
       "ID_CLIENTE                                                                 \n",
       "0            636.29          2   318.145000        318.145     72.414805   \n",
       "2            662.26          6   110.376667        105.285     79.194434   \n",
       "3            215.06          3    71.686667         42.790     61.268823   \n",
       "4           1271.87         11   115.624545         59.010    134.009345   \n",
       "5             47.19          1    47.190000         47.190      0.000000   \n",
       "\n",
       "            Recency  valor_90m  valormedio_90m  valor_120m  valormedio_120m  \\\n",
       "ID_CLIENTE                                                                    \n",
       "0                84     369.35         369.350      369.35          369.350   \n",
       "2                49     235.81         117.905      235.81          117.905   \n",
       "3               195       0.00           0.000        0.00            0.000   \n",
       "4                16     557.22         139.305      610.01          122.002   \n",
       "5               328       0.00           0.000        0.00            0.000   \n",
       "\n",
       "            valor_150m  valormedio_150m  valor_180m  valormedio_180m  \\\n",
       "ID_CLIENTE                                                             \n",
       "0               636.29       318.145000      636.29       318.145000   \n",
       "2               235.81       117.905000      235.81       117.905000   \n",
       "3                 0.00         0.000000        0.00         0.000000   \n",
       "4              1089.86       181.643333     1089.86       181.643333   \n",
       "5                 0.00         0.000000        0.00         0.000000   \n",
       "\n",
       "            valorsum_1ano_atras_m  \n",
       "ID_CLIENTE                         \n",
       "0                            0.00  \n",
       "2                          200.68  \n",
       "3                            0.00  \n",
       "4                           70.50  \n",
       "5                           47.19  "
      ]
     },
     "execution_count": 11,
     "metadata": {},
     "output_type": "execute_result"
    }
   ],
   "source": [
    "x_test.head()"
   ]
  },
  {
   "cell_type": "markdown",
   "id": "36af09a7",
   "metadata": {
    "papermill": {
     "duration": 0.022207,
     "end_time": "2021-10-17T06:35:40.868139",
     "exception": false,
     "start_time": "2021-10-17T06:35:40.845932",
     "status": "completed"
    },
    "tags": []
   },
   "source": [
    "# Modelo - ElasticNet\n",
    "\n",
    "Usaremos um modelo linear com regularizações l1 e l2 vizando minimizar o impacto dos ruídos dos dados, do ruído inerente a prever valores futuros a partir de uma quantidade e variedade limitada de dados que muito provavelmente não carrega toda a variância dos dados e o impacto da correlação das variáveis que criamos nos pesos da regressão."
   ]
  },
  {
   "cell_type": "code",
   "execution_count": 12,
   "id": "5bb67f42",
   "metadata": {
    "execution": {
     "iopub.execute_input": "2021-10-17T06:35:40.916624Z",
     "iopub.status.busy": "2021-10-17T06:35:40.915973Z",
     "iopub.status.idle": "2021-10-17T06:35:42.051727Z",
     "shell.execute_reply": "2021-10-17T06:35:42.053372Z",
     "shell.execute_reply.started": "2021-10-17T05:47:08.488762Z"
    },
    "papermill": {
     "duration": 1.163235,
     "end_time": "2021-10-17T06:35:42.053851",
     "exception": false,
     "start_time": "2021-10-17T06:35:40.890616",
     "status": "completed"
    },
    "tags": []
   },
   "outputs": [
    {
     "name": "stdout",
     "output_type": "stream",
     "text": [
      "Validação direta RMSE:  242.17955974579021\n"
     ]
    }
   ],
   "source": [
    "en = ElasticNet(random_state=0)\n",
    "en.fit(x_train_split, y_train_split)\n",
    "en_pred = en.predict(x_test_split)\n",
    "# validação direta\n",
    "score_dir = mean_squared_error(y_test_split,en_pred, squared=False)\n",
    "print('Validação direta RMSE: ',score_dir)"
   ]
  },
  {
   "cell_type": "code",
   "execution_count": 13,
   "id": "22555b08",
   "metadata": {
    "execution": {
     "iopub.execute_input": "2021-10-17T06:35:42.192205Z",
     "iopub.status.busy": "2021-10-17T06:35:42.191018Z",
     "iopub.status.idle": "2021-10-17T06:35:50.049505Z",
     "shell.execute_reply": "2021-10-17T06:35:50.050489Z",
     "shell.execute_reply.started": "2021-10-17T05:43:48.50434Z"
    },
    "papermill": {
     "duration": 7.912161,
     "end_time": "2021-10-17T06:35:50.050756",
     "exception": false,
     "start_time": "2021-10-17T06:35:42.138595",
     "status": "completed"
    },
    "tags": []
   },
   "outputs": [
    {
     "name": "stdout",
     "output_type": "stream",
     "text": [
      "RMSE:  245.95534755944885 \n",
      "std = : 17.352346333988397\n"
     ]
    }
   ],
   "source": [
    "# validação cruzada\n",
    "score = cross_val_score(en, X=x_train_total, y=y_train_total, cv=5, scoring='neg_root_mean_squared_error')\n",
    "print('RMSE: ',-score.mean(), '\\nstd = :', score.std())"
   ]
  },
  {
   "cell_type": "markdown",
   "id": "5ee96eed",
   "metadata": {
    "papermill": {
     "duration": 0.044541,
     "end_time": "2021-10-17T06:35:50.140477",
     "exception": false,
     "start_time": "2021-10-17T06:35:50.095936",
     "status": "completed"
    },
    "tags": []
   },
   "source": [
    "O desvio padrão alto indica que o modelo está muito sensível ao conjunto de dados usado. Variar a random_seed do train_test_split também altera significativamente o score, o que reforça essa ideia."
   ]
  },
  {
   "cell_type": "code",
   "execution_count": 14,
   "id": "111b2d89",
   "metadata": {
    "execution": {
     "iopub.execute_input": "2021-10-17T06:35:50.216701Z",
     "iopub.status.busy": "2021-10-17T06:35:50.216054Z",
     "iopub.status.idle": "2021-10-17T06:36:11.071004Z",
     "shell.execute_reply": "2021-10-17T06:36:11.071536Z",
     "shell.execute_reply.started": "2021-10-17T05:44:00.885261Z"
    },
    "papermill": {
     "duration": 20.897408,
     "end_time": "2021-10-17T06:36:11.071856",
     "exception": false,
     "start_time": "2021-10-17T06:35:50.174448",
     "status": "completed"
    },
    "tags": []
   },
   "outputs": [
    {
     "data": {
      "text/plain": [
       "<module 'matplotlib.pyplot' from '/opt/conda/lib/python3.7/site-packages/matplotlib/pyplot.py'>"
      ]
     },
     "execution_count": 14,
     "metadata": {},
     "output_type": "execute_result"
    },
    {
     "data": {
      "image/png": "[encoded data removed]",
      "text/plain": [
       "<Figure size 1440x720 with 1 Axes>"
      ]
     },
     "metadata": {
      "needs_background": "light"
     },
     "output_type": "display_data"
    }
   ],
   "source": [
    "# plot curva de aprendizado com 70% dos dados\n",
    "title = \"Learning Curves em um split dos dados - ElasticNet\"\n",
    "plot_learning_curve(ElasticNet(random_state=0), title, x_train_split, y_train_split, cv=5, n_jobs=-1)"
   ]
  },
  {
   "cell_type": "markdown",
   "id": "37bd2732",
   "metadata": {
    "execution": {
     "iopub.execute_input": "2021-10-17T05:50:18.787013Z",
     "iopub.status.busy": "2021-10-17T05:50:18.786669Z",
     "iopub.status.idle": "2021-10-17T05:50:18.793525Z",
     "shell.execute_reply": "2021-10-17T05:50:18.792199Z",
     "shell.execute_reply.started": "2021-10-17T05:50:18.786978Z"
    },
    "papermill": {
     "duration": 0.024585,
     "end_time": "2021-10-17T06:36:11.121888",
     "exception": false,
     "start_time": "2021-10-17T06:36:11.097303",
     "status": "completed"
    },
    "tags": []
   },
   "source": [
    "Curva de aprendizado com 70% dos dados não indica overfitting, coerente com aprendizado real."
   ]
  },
  {
   "cell_type": "code",
   "execution_count": 15,
   "id": "eeba526b",
   "metadata": {
    "execution": {
     "iopub.execute_input": "2021-10-17T06:36:11.177457Z",
     "iopub.status.busy": "2021-10-17T06:36:11.176768Z",
     "iopub.status.idle": "2021-10-17T06:36:37.359037Z",
     "shell.execute_reply": "2021-10-17T06:36:37.358528Z",
     "shell.execute_reply.started": "2021-10-17T05:51:03.137921Z"
    },
    "papermill": {
     "duration": 26.212214,
     "end_time": "2021-10-17T06:36:37.359183",
     "exception": false,
     "start_time": "2021-10-17T06:36:11.146969",
     "status": "completed"
    },
    "tags": []
   },
   "outputs": [
    {
     "data": {
      "text/plain": [
       "<module 'matplotlib.pyplot' from '/opt/conda/lib/python3.7/site-packages/matplotlib/pyplot.py'>"
      ]
     },
     "execution_count": 15,
     "metadata": {},
     "output_type": "execute_result"
    },
    {
     "data": {
      "image/png": "[encoded data removed]",
      "text/plain": [
       "<Figure size 1440x720 with 1 Axes>"
      ]
     },
     "metadata": {
      "needs_background": "light"
     },
     "output_type": "display_data"
    }
   ],
   "source": [
    "# curva de aprendizado com todos os dados\n",
    "title = \"Learning Curves nos dados totais - ElasticNet\"\n",
    "plot_learning_curve(ElasticNet(random_state=0), title, x_train_total, y_train_total, cv=5, n_jobs=-1)"
   ]
  },
  {
   "cell_type": "markdown",
   "id": "e4ab5a9d",
   "metadata": {
    "papermill": {
     "duration": 0.026968,
     "end_time": "2021-10-17T06:36:37.473845",
     "exception": false,
     "start_time": "2021-10-17T06:36:37.446877",
     "status": "completed"
    },
    "tags": []
   },
   "source": [
    "Não sei o que ta acontecendo aqui kkkkkkkk"
   ]
  },
  {
   "cell_type": "markdown",
   "id": "c3c1f2a9",
   "metadata": {
    "papermill": {
     "duration": 0.028017,
     "end_time": "2021-10-17T06:36:37.529373",
     "exception": false,
     "start_time": "2021-10-17T06:36:37.501356",
     "status": "completed"
    },
    "tags": []
   },
   "source": [
    "# Dividindo por canal\n",
    "\n",
    "Os padrões de compras em lojas físicas, por televendas, whatsapp, ecm e ifood são diferentes, por isso, treinamos um modelo com as compras de cada canal e somamos as previsões finais. Essa solução deu uma pontuação muito semelhante (diferença de décimos no leaderboard) a treinar apenas um modelo com os dados de todos os canais, mas como é um pouco mais elaborada, resolvi compartilhar essa."
   ]
  },
  {
   "cell_type": "code",
   "execution_count": 16,
   "id": "83a74cd8",
   "metadata": {
    "execution": {
     "iopub.execute_input": "2021-10-17T06:36:37.587802Z",
     "iopub.status.busy": "2021-10-17T06:36:37.587091Z",
     "iopub.status.idle": "2021-10-17T06:36:46.051122Z",
     "shell.execute_reply": "2021-10-17T06:36:46.050475Z",
     "shell.execute_reply.started": "2021-10-17T06:02:45.037973Z"
    },
    "papermill": {
     "duration": 8.494717,
     "end_time": "2021-10-17T06:36:46.051278",
     "exception": false,
     "start_time": "2021-10-17T06:36:37.556561",
     "status": "completed"
    },
    "tags": []
   },
   "outputs": [],
   "source": [
    "canais = df['CANAL'].unique()\n",
    "# define listas para receber os dados separados por canal\n",
    "x_train_aux = [[] for x in range(len(canais))]\n",
    "y_train_aux = [[] for x in range(len(canais))]\n",
    "x_test_aux = [[] for x in range(len(canais))]\n",
    "\n",
    "# divide o dataset por canal\n",
    "for i, canal in enumerate(canais):\n",
    "    df_aux = df[df['CANAL']==canal]\n",
    "    x_train_aux[i], y_train_aux[i], x_test_aux[i] = transform_df(df_aux)"
   ]
  },
  {
   "cell_type": "code",
   "execution_count": 17,
   "id": "b3e5aa52",
   "metadata": {
    "execution": {
     "iopub.execute_input": "2021-10-17T06:36:46.112015Z",
     "iopub.status.busy": "2021-10-17T06:36:46.111024Z",
     "iopub.status.idle": "2021-10-17T06:36:46.114969Z",
     "shell.execute_reply": "2021-10-17T06:36:46.114415Z",
     "shell.execute_reply.started": "2021-10-17T06:03:47.070438Z"
    },
    "papermill": {
     "duration": 0.036322,
     "end_time": "2021-10-17T06:36:46.115113",
     "exception": false,
     "start_time": "2021-10-17T06:36:46.078791",
     "status": "completed"
    },
    "tags": []
   },
   "outputs": [
    {
     "name": "stdout",
     "output_type": "stream",
     "text": [
      "FIS (176452, 15)\n",
      "TELEVENDAS (5764, 15)\n",
      "ECM (36846, 15)\n",
      "WHATSAPP (2921, 15)\n",
      "IFOOD (1247, 15)\n"
     ]
    }
   ],
   "source": [
    "for i,canal in zip(range(5),canais): \n",
    "    print(canal, x_train_aux[i].shape)"
   ]
  },
  {
   "cell_type": "code",
   "execution_count": 18,
   "id": "ba9a9af9",
   "metadata": {
    "execution": {
     "iopub.execute_input": "2021-10-17T06:36:46.176118Z",
     "iopub.status.busy": "2021-10-17T06:36:46.175384Z",
     "iopub.status.idle": "2021-10-17T06:36:46.178199Z",
     "shell.execute_reply": "2021-10-17T06:36:46.177670Z",
     "shell.execute_reply.started": "2021-10-17T06:04:05.794641Z"
    },
    "papermill": {
     "duration": 0.035495,
     "end_time": "2021-10-17T06:36:46.178340",
     "exception": false,
     "start_time": "2021-10-17T06:36:46.142845",
     "status": "completed"
    },
    "tags": []
   },
   "outputs": [],
   "source": [
    "# cria lista de modelos\n",
    "modelos = [ElasticNet(random_state=0) for x in range(len(canais))]\n",
    "# lista para receber as predições\n",
    "preds = [[] for x in range(len(canais))]"
   ]
  },
  {
   "cell_type": "code",
   "execution_count": 19,
   "id": "3dc3eab6",
   "metadata": {
    "execution": {
     "iopub.execute_input": "2021-10-17T06:36:46.240092Z",
     "iopub.status.busy": "2021-10-17T06:36:46.239451Z",
     "iopub.status.idle": "2021-10-17T06:36:48.910979Z",
     "shell.execute_reply": "2021-10-17T06:36:48.912331Z",
     "shell.execute_reply.started": "2021-10-17T06:04:06.14996Z"
    },
    "papermill": {
     "duration": 2.706531,
     "end_time": "2021-10-17T06:36:48.912614",
     "exception": false,
     "start_time": "2021-10-17T06:36:46.206083",
     "status": "completed"
    },
    "tags": []
   },
   "outputs": [
    {
     "name": "stderr",
     "output_type": "stream",
     "text": [
      "/opt/conda/lib/python3.7/site-packages/sklearn/linear_model/_coordinate_descent.py:531: ConvergenceWarning: Objective did not converge. You might want to increase the number of iterations. Duality gap: 93772119.45816168, tolerance: 87201.48240262679\n",
      "  positive)\n",
      "/opt/conda/lib/python3.7/site-packages/sklearn/linear_model/_coordinate_descent.py:531: ConvergenceWarning: Objective did not converge. You might want to increase the number of iterations. Duality gap: 19784006.713751584, tolerance: 48474.09224963906\n",
      "  positive)\n",
      "/opt/conda/lib/python3.7/site-packages/sklearn/linear_model/_coordinate_descent.py:531: ConvergenceWarning: Objective did not converge. You might want to increase the number of iterations. Duality gap: 2740330.686439343, tolerance: 6620.535482075572\n",
      "  positive)\n"
     ]
    }
   ],
   "source": [
    "# treina e faz a previsão para cada modelo\n",
    "for i, modelo in enumerate(modelos):\n",
    "    preds[i] = modelo.fit(x_train_aux[i], y_train_aux[i]).predict(x_test_aux[i])"
   ]
  },
  {
   "cell_type": "code",
   "execution_count": 20,
   "id": "3738045a",
   "metadata": {
    "execution": {
     "iopub.execute_input": "2021-10-17T06:36:49.034936Z",
     "iopub.status.busy": "2021-10-17T06:36:49.034321Z",
     "iopub.status.idle": "2021-10-17T06:36:49.191609Z",
     "shell.execute_reply": "2021-10-17T06:36:49.192071Z",
     "shell.execute_reply.started": "2021-10-17T06:06:31.330605Z"
    },
    "papermill": {
     "duration": 0.22284,
     "end_time": "2021-10-17T06:36:49.192253",
     "exception": false,
     "start_time": "2021-10-17T06:36:48.969413",
     "status": "completed"
    },
    "tags": []
   },
   "outputs": [
    {
     "name": "stderr",
     "output_type": "stream",
     "text": [
      "/opt/conda/lib/python3.7/site-packages/pandas/core/frame.py:9139: FutureWarning: Passing 'suffixes' which cause duplicate columns {'0_sum'} in the result is deprecated and will raise a MergeError in a future version.\n",
      "  sort=sort,\n"
     ]
    }
   ],
   "source": [
    "# cria lista para receber as previsões transformadas para dataframe\n",
    "df_preds=[[] for x in range(5)]\n",
    "for i, canal in enumerate(canais):\n",
    "    df_preds[i] = pd.DataFrame(preds[i], index=x_test_aux[i].index)\n",
    "\n",
    "df_sub = pd.read_csv('/kaggle/input/VLabs-DC/sample_submission.csv',header=0)\n",
    "# Join nas previsões dos diferentes canais\n",
    "for prediction in df_preds:\n",
    "     df_sub = df_sub.join(prediction,on='ID_CLIENTE', lsuffix='_sum', rsuffix='_TARGET')\n",
    "\n",
    "# soma as previsões dos canais em uma coluna \"FINAL\"\n",
    "df_sub['FINAL'] = df_sub.iloc[:,1:].sum(axis=1)\n",
    "# drop nas previsões para ficar só a soma\n",
    "df_sub.drop(list(df_sub.columns[1:-1]),axis=1,inplace=True)\n",
    "# corrige o nome das colunas para submissão\n",
    "df_sub.columns = ['ID_CLIENTE','VALOR']"
   ]
  },
  {
   "cell_type": "code",
   "execution_count": 21,
   "id": "7d507b23",
   "metadata": {
    "execution": {
     "iopub.execute_input": "2021-10-17T06:36:49.262370Z",
     "iopub.status.busy": "2021-10-17T06:36:49.261559Z",
     "iopub.status.idle": "2021-10-17T06:36:49.264770Z",
     "shell.execute_reply": "2021-10-17T06:36:49.265174Z",
     "shell.execute_reply.started": "2021-10-17T06:06:32.038225Z"
    },
    "papermill": {
     "duration": 0.044521,
     "end_time": "2021-10-17T06:36:49.265350",
     "exception": false,
     "start_time": "2021-10-17T06:36:49.220829",
     "status": "completed"
    },
    "tags": []
   },
   "outputs": [
    {
     "data": {
      "text/html": [
       "<div>\n",
       "<style scoped>\n",
       "    .dataframe tbody tr th:only-of-type {\n",
       "        vertical-align: middle;\n",
       "    }\n",
       "\n",
       "    .dataframe tbody tr th {\n",
       "        vertical-align: top;\n",
       "    }\n",
       "\n",
       "    .dataframe thead th {\n",
       "        text-align: right;\n",
       "    }\n",
       "</style>\n",
       "<table border=\"1\" class=\"dataframe\">\n",
       "  <thead>\n",
       "    <tr style=\"text-align: right;\">\n",
       "      <th></th>\n",
       "      <th>ID_CLIENTE</th>\n",
       "      <th>VALOR</th>\n",
       "    </tr>\n",
       "  </thead>\n",
       "  <tbody>\n",
       "    <tr>\n",
       "      <th>0</th>\n",
       "      <td>4</td>\n",
       "      <td>414.441001</td>\n",
       "    </tr>\n",
       "    <tr>\n",
       "      <th>1</th>\n",
       "      <td>9</td>\n",
       "      <td>91.310892</td>\n",
       "    </tr>\n",
       "    <tr>\n",
       "      <th>2</th>\n",
       "      <td>12</td>\n",
       "      <td>297.516923</td>\n",
       "    </tr>\n",
       "    <tr>\n",
       "      <th>3</th>\n",
       "      <td>15</td>\n",
       "      <td>223.847468</td>\n",
       "    </tr>\n",
       "    <tr>\n",
       "      <th>4</th>\n",
       "      <td>19</td>\n",
       "      <td>87.293143</td>\n",
       "    </tr>\n",
       "    <tr>\n",
       "      <th>...</th>\n",
       "      <td>...</td>\n",
       "      <td>...</td>\n",
       "    </tr>\n",
       "    <tr>\n",
       "      <th>126611</th>\n",
       "      <td>384409</td>\n",
       "      <td>61.378438</td>\n",
       "    </tr>\n",
       "    <tr>\n",
       "      <th>126612</th>\n",
       "      <td>384411</td>\n",
       "      <td>143.194911</td>\n",
       "    </tr>\n",
       "    <tr>\n",
       "      <th>126613</th>\n",
       "      <td>384415</td>\n",
       "      <td>59.601366</td>\n",
       "    </tr>\n",
       "    <tr>\n",
       "      <th>126614</th>\n",
       "      <td>384418</td>\n",
       "      <td>166.557001</td>\n",
       "    </tr>\n",
       "    <tr>\n",
       "      <th>126615</th>\n",
       "      <td>384420</td>\n",
       "      <td>403.912152</td>\n",
       "    </tr>\n",
       "  </tbody>\n",
       "</table>\n",
       "<p>126616 rows × 2 columns</p>\n",
       "</div>"
      ],
      "text/plain": [
       "        ID_CLIENTE       VALOR\n",
       "0                4  414.441001\n",
       "1                9   91.310892\n",
       "2               12  297.516923\n",
       "3               15  223.847468\n",
       "4               19   87.293143\n",
       "...            ...         ...\n",
       "126611      384409   61.378438\n",
       "126612      384411  143.194911\n",
       "126613      384415   59.601366\n",
       "126614      384418  166.557001\n",
       "126615      384420  403.912152\n",
       "\n",
       "[126616 rows x 2 columns]"
      ]
     },
     "execution_count": 21,
     "metadata": {},
     "output_type": "execute_result"
    }
   ],
   "source": [
    "df_sub"
   ]
  },
  {
   "cell_type": "markdown",
   "id": "91957ea9",
   "metadata": {
    "papermill": {
     "duration": 0.02844,
     "end_time": "2021-10-17T06:36:49.322638",
     "exception": false,
     "start_time": "2021-10-17T06:36:49.294198",
     "status": "completed"
    },
    "tags": []
   },
   "source": [
    "Outro meio usado para validar vagamente a predição antes de gastar uma submissão no kaggle foi comparar com a melhor submissão que tínhamos até o momento."
   ]
  },
  {
   "cell_type": "code",
   "execution_count": 22,
   "id": "aa4f0cf3",
   "metadata": {
    "execution": {
     "iopub.execute_input": "2021-10-17T06:36:49.385004Z",
     "iopub.status.busy": "2021-10-17T06:36:49.384020Z",
     "iopub.status.idle": "2021-10-17T06:36:49.386859Z",
     "shell.execute_reply": "2021-10-17T06:36:49.386345Z"
    },
    "papermill": {
     "duration": 0.035496,
     "end_time": "2021-10-17T06:36:49.387002",
     "exception": false,
     "start_time": "2021-10-17T06:36:49.351506",
     "status": "completed"
    },
    "tags": []
   },
   "outputs": [],
   "source": [
    "# melhor score na public leaderboard\n",
    "#df_sub5 = pd.read_csv(r'C:\\Users\\mmansur\\VLabs\\Submissions\\best_score.csv')\n",
    "\n",
    "# validação direta\n",
    "#score_dir = mean_squared_error(df_sub5,df_sub, squared=False)\n",
    "#print('Validação direta RMSE: ',score_dir)"
   ]
  },
  {
   "cell_type": "markdown",
   "id": "ba8d3321",
   "metadata": {
    "papermill": {
     "duration": 0.02856,
     "end_time": "2021-10-17T06:36:49.444481",
     "exception": false,
     "start_time": "2021-10-17T06:36:49.415921",
     "status": "completed"
    },
    "tags": []
   },
   "source": [
    "Esse código não vai rodar aqui, foi feito localmente. Retornou RMSE = 20.26 em relação à melhor previsão que tínhamos (um modelo mais simples, com menos features), o que quer dizer que está no caminho certo, vai melhorar ou piorar um poquinho a melhor solução até o momento. Nesse caso, melhorou o RMSE em ~7 pontos."
   ]
  },
  {
   "cell_type": "markdown",
   "id": "8cbfc151",
   "metadata": {
    "papermill": {
     "duration": 0.028449,
     "end_time": "2021-10-17T06:36:49.501823",
     "exception": false,
     "start_time": "2021-10-17T06:36:49.473374",
     "status": "completed"
    },
    "tags": []
   },
   "source": [
    "# Submissão"
   ]
  },
  {
   "cell_type": "code",
   "execution_count": 23,
   "id": "da867eac",
   "metadata": {
    "execution": {
     "iopub.execute_input": "2021-10-17T06:36:49.563124Z",
     "iopub.status.busy": "2021-10-17T06:36:49.562502Z",
     "iopub.status.idle": "2021-10-17T06:36:49.862884Z",
     "shell.execute_reply": "2021-10-17T06:36:49.862339Z",
     "shell.execute_reply.started": "2021-10-17T06:22:24.432685Z"
    },
    "papermill": {
     "duration": 0.331949,
     "end_time": "2021-10-17T06:36:49.863051",
     "exception": false,
     "start_time": "2021-10-17T06:36:49.531102",
     "status": "completed"
    },
    "tags": []
   },
   "outputs": [],
   "source": [
    "df_sub.to_csv('submission_VLabs.csv', index=False)"
   ]
  },
  {
   "cell_type": "markdown",
   "id": "90dba5a0",
   "metadata": {
    "execution": {
     "iopub.execute_input": "2021-10-17T06:16:50.277127Z",
     "iopub.status.busy": "2021-10-17T06:16:50.276806Z",
     "iopub.status.idle": "2021-10-17T06:16:50.281318Z",
     "shell.execute_reply": "2021-10-17T06:16:50.280447Z",
     "shell.execute_reply.started": "2021-10-17T06:16:50.277096Z"
    },
    "papermill": {
     "duration": 0.028312,
     "end_time": "2021-10-17T06:36:49.920197",
     "exception": false,
     "start_time": "2021-10-17T06:36:49.891885",
     "status": "completed"
    },
    "tags": []
   },
   "source": [
    "# Próximos passos\n",
    "\n",
    "Pontos a melhorar:\n",
    "- investigar cada feature individualmente, se está ajudando ou atrapalhando. \n",
    "- suavizar outliers vizando melhorar a performance de modelo linear\n",
    "- testamos uma normalização que não funcionou bem, há mais para explorar em relação a normalizações\n",
    "- investigar distribuição das variáveis. Aplicar transformações vizando aproximar de uma distriução normal pode melhorar modelos lineares\n",
    "- hyperparameter tuning, principalmente alpha e l1_rate\n",
    "- produzir diferentes modelos e stackar utilizando as soluções como input"
   ]
  }
 ],
 "metadata": {
  "kernelspec": {
   "display_name": "Python 3",
   "language": "python",
   "name": "python3"
  },
  "language_info": {
   "codemirror_mode": {
    "name": "ipython",
    "version": 3
   },
   "file_extension": ".py",
   "mimetype": "text/x-python",
   "name": "python",
   "nbconvert_exporter": "python",
   "pygments_lexer": "ipython3",
   "version": "3.7.10"
  },
  "papermill": {
   "default_parameters": {},
   "duration": 89.722183,
   "end_time": "2021-10-17T06:36:50.660078",
   "environment_variables": {},
   "exception": null,
   "input_path": "__notebook__.ipynb",
   "output_path": "__notebook__.ipynb",
   "parameters": {},
   "start_time": "2021-10-17T06:35:20.937895",
   "version": "2.3.3"
  }
 },
 "nbformat": 4,
 "nbformat_minor": 5
}
