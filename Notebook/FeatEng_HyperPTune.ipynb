{
 "cells": [
  {
   "cell_type": "code",
   "execution_count": 1,
   "id": "bcae16be",
   "metadata": {},
   "outputs": [],
   "source": [
    "import pandas as pd\n",
    "import numpy as np\n",
    "import matplotlib.pyplot as plt\n",
    "from sklearn.model_selection import cross_val_score, train_test_split, learning_curve\n",
    "from sklearn.metrics import mean_squared_error\n",
    "from sklearn.linear_model import LinearRegression, ElasticNet"
   ]
  },
  {
   "cell_type": "markdown",
   "id": "a29457e3-84b6-4fff-8e95-2a68ce42f858",
   "metadata": {},
   "source": [
    "# Load Data"
   ]
  },
  {
   "cell_type": "code",
   "execution_count": 2,
   "id": "e042aaac",
   "metadata": {},
   "outputs": [],
   "source": [
    "data_path = 'C:/Users/ticom/VLabs/Data'\n",
    "df = pd.read_csv(data_path+'/sales_20_21_train.csv', header=0, parse_dates=['DT_VENDA'])\n",
    "# df = pd.read_csv('https://raw.githubusercontent.com/marcos-mansur/vlabs-challenge/main/Data/sales_20_21_train.csv', header=0, parse_dates=['DT_VENDA'])\n",
    "df_sub = pd.read_csv(data_path+'/sample_submission.csv',header=0)"
   ]
  },
  {
   "cell_type": "markdown",
   "id": "5c2dd923-5234-47d1-88a5-e9920ee6195c",
   "metadata": {},
   "source": [
    "# Functions"
   ]
  },
  {
   "cell_type": "code",
   "execution_count": 23,
   "id": "2217f033-c238-4d92-a84f-cac67251d922",
   "metadata": {},
   "outputs": [],
   "source": [
    "def plot_learning_curve(estimator, title, X, y, axes=None, ylim=None, cv=None,\n",
    "                        n_jobs=None, train_sizes=np.linspace(.1, 1.0, 5)):\n",
    "    \"\"\"\n",
    "    Generate plot: learning curve\n",
    "\n",
    "    \"\"\"\n",
    "    if axes is None:\n",
    "        _, axes = plt.subplots(1, figsize=(20, 10))\n",
    "\n",
    "    axes.set_title(title)\n",
    "    if ylim is not None:\n",
    "        axes.set_ylim(*ylim)\n",
    "    axes.set_xlabel(\"Training examples\")\n",
    "    axes.set_ylabel(\"Score\")\n",
    "\n",
    "    train_sizes, train_scores, test_scores, fit_times, _ = \\\n",
    "        learning_curve(estimator, X, y, cv=cv, n_jobs=n_jobs,\n",
    "                       train_sizes=train_sizes, scoring='neg_root_mean_squared_error',\n",
    "                       return_times=True)\n",
    "    train_scores_mean = np.mean(train_scores, axis=1)\n",
    "    train_scores_std = np.std(train_scores, axis=1)\n",
    "    test_scores_mean = np.mean(test_scores, axis=1)\n",
    "    test_scores_std = np.std(test_scores, axis=1)\n",
    "    fit_times_mean = np.mean(fit_times, axis=1)\n",
    "    fit_times_std = np.std(fit_times, axis=1)\n",
    "\n",
    "    # Plot learning curve\n",
    "    axes.grid()\n",
    "    # intervalos de spread \n",
    "    axes.fill_between(train_sizes, train_scores_mean - train_scores_std,\n",
    "                         train_scores_mean + train_scores_std, alpha=0.1,\n",
    "                         color=\"r\")\n",
    "    axes.fill_between(train_sizes, test_scores_mean - test_scores_std,\n",
    "                         test_scores_mean + test_scores_std, alpha=0.1,\n",
    "                         color=\"g\")\n",
    "    # curvas\n",
    "    axes.plot(train_sizes, train_scores_mean, 'o-', color=\"r\",\n",
    "                 label=\"Training score\")\n",
    "    axes.plot(train_sizes, test_scores_mean, 'o-', color=\"g\",\n",
    "                 label=\"Cross-validation score\")\n",
    "    axes.legend(loc=\"best\")\n",
    "    return plt"
   ]
  },
  {
   "cell_type": "code",
   "execution_count": 3,
   "id": "f83639c8",
   "metadata": {},
   "outputs": [],
   "source": [
    "def split_per_dates(df,train_start,target_start, sub_start):\n",
    "    # target do treinamento\n",
    "    df_target = df[df.DT_VENDA > target_start]\n",
    "    y_train = df_target.groupby('ID_CLIENTE')['VALOR'].sum()\n",
    "    # dados de treinamento\n",
    "    df_train = df[(df['DT_VENDA']>train_start) & (df['DT_VENDA']<target_start)].copy()\n",
    "    # dados para previsão\n",
    "    df_test = df[df['DT_VENDA']>sub_start]\n",
    "    return df_train, y_train, df_test"
   ]
  },
  {
   "cell_type": "markdown",
   "id": "e06d3e1b",
   "metadata": {},
   "source": [
    "# Preprocessing"
   ]
  },
  {
   "cell_type": "markdown",
   "id": "9213be48-f236-4af2-8f1b-ee5abda4357d",
   "metadata": {},
   "source": [
    "A função abaixo recebe o df cru e retorna o df final do modelo. Feature engineer e outras mudanças devem ser feitas preferencialmente aqui porque ao fim dessa transformação perdemos os dados abertor por compra."
   ]
  },
  {
   "cell_type": "code",
   "execution_count": 4,
   "id": "a9393b15",
   "metadata": {},
   "outputs": [],
   "source": [
    "def treated_data(df_pp):\n",
    "    max_date = df_pp['DT_VENDA'].max()\n",
    "    \n",
    "    #agrupar por cliente somando o valor\n",
    "    cust_revenue = df_pp.groupby(['ID_CLIENTE'])['VALOR'].sum().copy()\n",
    "    # transformar em df\n",
    "    cust_rev = pd.DataFrame(cust_revenue)\n",
    "    # feature com número de compras feitas no período de teste\n",
    "    cust_rev['Frequency'] = df_pp.groupby(['ID_CLIENTE'])['ID_VENDA'].count()\n",
    "    \n",
    "    # std entre os valores das compras de cada cliente\n",
    "    #cust_rev['std entre compras'] = df_pp.groupby('ID_CLIENTE')['VALOR'].std()\n",
    "    # diferença entre a data da primeira e ultima compra\n",
    "    #cust_rev['periodo_compras'] = df_pp.groupby(['ID_CLIENTE'])['DT_VENDA'].max() - df_pp.groupby(['ID_CLIENTE'])['DT_VENDA'].min()\n",
    "    #cust_rev['periodo_compras'] = cust_rev['periodo_compras'].apply(lambda x: x.days)\n",
    "\n",
    "    # meadia entre os valores das compras de cada cliente\n",
    "    #cust_rev['valor medio'] = df_pp.groupby('ID_CLIENTE')['VALOR'].mean()\n",
    "    \n",
    "    \n",
    "    # data da ultima compra\n",
    "    cust_rev['Recency'] = max_date - df_pp.groupby(['ID_CLIENTE'])['DT_VENDA'].max()\n",
    "    cust_rev['Recency'] = cust_rev['Recency'].apply(lambda x: x.days)\n",
    "    # soma do VALOR dos ultimos 3 meses de cada cliente\n",
    "    cust_rev['valor_3m'] = df_pp[\n",
    "            df_pp['DT_VENDA']>(df_pp['DT_VENDA'].max() - delta90)].groupby(['ID_CLIENTE'])['VALOR'].sum()\n",
    "    \n",
    "    return cust_rev.fillna(0)"
   ]
  },
  {
   "cell_type": "code",
   "execution_count": 6,
   "id": "02b2007d",
   "metadata": {},
   "outputs": [],
   "source": [
    "# intervalo de 90 dias\n",
    "delta90 = pd.to_timedelta(90,unit='d')\n",
    "# data mais recente do dataset\n",
    "max_date = df['DT_VENDA'].max()\n",
    "# data de início do target\n",
    "target_start = max_date - delta90\n",
    "# data de início dos dados de treino\n",
    "train_start = target_start - 2*delta90\n",
    "# data de início dos dados de previsão (submissão)\n",
    "sub_start = max_date - 2*delta90"
   ]
  },
  {
   "cell_type": "code",
   "execution_count": 7,
   "id": "20593e37",
   "metadata": {},
   "outputs": [],
   "source": [
    "df_train, target_train, df_test = split_per_dates(df,train_start,target_start,sub_start)"
   ]
  },
  {
   "cell_type": "code",
   "execution_count": 8,
   "id": "2ac7db4e",
   "metadata": {},
   "outputs": [],
   "source": [
    "df2_train = treated_data(df_train)\n",
    "df2_test = treated_data(df_test)"
   ]
  },
  {
   "cell_type": "code",
   "execution_count": 18,
   "id": "1f8ce495",
   "metadata": {},
   "outputs": [],
   "source": [
    "# juntando o dataset com o target para alinhar o index\n",
    "df3_train = df2_train.join(other=target_train, on='ID_CLIENTE', lsuffix='_sum', rsuffix='_TARGET')\n",
    "x_train_total = df3_train.drop('VALOR_TARGET',axis=1)\n",
    "y_train_total = df3_train.VALOR_TARGET.fillna(0)"
   ]
  },
  {
   "cell_type": "code",
   "execution_count": 19,
   "id": "1993a371",
   "metadata": {},
   "outputs": [],
   "source": [
    "x_train_split, x_test_split, y_train_split, y_test_split = train_test_split(x_train_total, \n",
    "                                                                            y_train_total, \n",
    "                                                                            random_state=0,\n",
    "                                                                            test_size=0.3)"
   ]
  },
  {
   "cell_type": "markdown",
   "id": "6cf4951a-1473-451c-9db7-0584f7c18bc7",
   "metadata": {},
   "source": [
    "# Model"
   ]
  },
  {
   "cell_type": "code",
   "execution_count": null,
   "id": "3520f5dd",
   "metadata": {},
   "outputs": [],
   "source": [
    "en = ElasticNet(random_state=0)\n",
    "en.fit(x_train_split, y_train_split)\n",
    "en_pred = en.predict(x_test_split)"
   ]
  },
  {
   "cell_type": "code",
   "execution_count": null,
   "id": "e0c17c9e-ea5d-4143-8c19-8e00fcd9f236",
   "metadata": {},
   "outputs": [],
   "source": [
    "score = mean_squared_error(y_test_split,en_pred, squared=False)\n",
    "score"
   ]
  },
  {
   "cell_type": "code",
   "execution_count": null,
   "id": "15884558-6aa4-4421-ba88-ac8294e34597",
   "metadata": {},
   "outputs": [],
   "source": [
    "title = \"Learning Curves - ElasticNet\"\n",
    "plot_learning_curve(en, title, x_train_total, y_train_total, cv=5, n_jobs=-1)"
   ]
  },
  {
   "cell_type": "markdown",
   "id": "dc4c2960-aa2e-4f64-bf06-83621a255f6f",
   "metadata": {},
   "source": [
    "# Submission"
   ]
  },
  {
   "cell_type": "code",
   "execution_count": 14,
   "id": "95d361aa",
   "metadata": {},
   "outputs": [],
   "source": [
    "en = ElasticNet(random_state=0)\n",
    "en.fit(x_train_total, y_train_total)\n",
    "en_pred = en.predict(df2_test)\n",
    "\n",
    "en_pred_df = pd.DataFrame(en_pred, index=df2_test.index).reset_index()\n",
    "en_pred_df.columns = ['ID_CLIENTE', 'VALOR']\n",
    "sub5 = pd.DataFrame(df_sub['ID_CLIENTE']).set_index('ID_CLIENTE').join(en_pred_df.set_index('ID_CLIENTE'),\n",
    "                                           on='ID_CLIENTE')\n",
    "#sub5.reset_index().fillna(0).to_csv('C:/Users/ticom/VLabs/Submissions/sub5.csv', index=False)"
   ]
  },
  {
   "cell_type": "code",
   "execution_count": 20,
   "id": "58622a09",
   "metadata": {},
   "outputs": [
    {
     "data": {
      "text/html": [
       "<div>\n",
       "<style scoped>\n",
       "    .dataframe tbody tr th:only-of-type {\n",
       "        vertical-align: middle;\n",
       "    }\n",
       "\n",
       "    .dataframe tbody tr th {\n",
       "        vertical-align: top;\n",
       "    }\n",
       "\n",
       "    .dataframe thead th {\n",
       "        text-align: right;\n",
       "    }\n",
       "</style>\n",
       "<table border=\"1\" class=\"dataframe\">\n",
       "  <thead>\n",
       "    <tr style=\"text-align: right;\">\n",
       "      <th></th>\n",
       "      <th>VALOR</th>\n",
       "    </tr>\n",
       "    <tr>\n",
       "      <th>ID_CLIENTE</th>\n",
       "      <th></th>\n",
       "    </tr>\n",
       "  </thead>\n",
       "  <tbody>\n",
       "    <tr>\n",
       "      <th>4</th>\n",
       "      <td>471.272490</td>\n",
       "    </tr>\n",
       "    <tr>\n",
       "      <th>9</th>\n",
       "      <td>77.601815</td>\n",
       "    </tr>\n",
       "    <tr>\n",
       "      <th>12</th>\n",
       "      <td>278.050066</td>\n",
       "    </tr>\n",
       "    <tr>\n",
       "      <th>15</th>\n",
       "      <td>157.540902</td>\n",
       "    </tr>\n",
       "    <tr>\n",
       "      <th>19</th>\n",
       "      <td>55.723262</td>\n",
       "    </tr>\n",
       "    <tr>\n",
       "      <th>...</th>\n",
       "      <td>...</td>\n",
       "    </tr>\n",
       "    <tr>\n",
       "      <th>384409</th>\n",
       "      <td>67.292199</td>\n",
       "    </tr>\n",
       "    <tr>\n",
       "      <th>384411</th>\n",
       "      <td>159.056544</td>\n",
       "    </tr>\n",
       "    <tr>\n",
       "      <th>384415</th>\n",
       "      <td>42.367053</td>\n",
       "    </tr>\n",
       "    <tr>\n",
       "      <th>384418</th>\n",
       "      <td>163.083889</td>\n",
       "    </tr>\n",
       "    <tr>\n",
       "      <th>384420</th>\n",
       "      <td>434.386430</td>\n",
       "    </tr>\n",
       "  </tbody>\n",
       "</table>\n",
       "<p>126616 rows × 1 columns</p>\n",
       "</div>"
      ],
      "text/plain": [
       "                 VALOR\n",
       "ID_CLIENTE            \n",
       "4           471.272490\n",
       "9            77.601815\n",
       "12          278.050066\n",
       "15          157.540902\n",
       "19           55.723262\n",
       "...                ...\n",
       "384409       67.292199\n",
       "384411      159.056544\n",
       "384415       42.367053\n",
       "384418      163.083889\n",
       "384420      434.386430\n",
       "\n",
       "[126616 rows x 1 columns]"
      ]
     },
     "execution_count": 20,
     "metadata": {},
     "output_type": "execute_result"
    }
   ],
   "source": [
    "sub5"
   ]
  }
 ],
 "metadata": {
  "kernelspec": {
   "display_name": "Python 3 (ipykernel)",
   "language": "python",
   "name": "python3"
  },
  "language_info": {
   "codemirror_mode": {
    "name": "ipython",
    "version": 3
   },
   "file_extension": ".py",
   "mimetype": "text/x-python",
   "name": "python",
   "nbconvert_exporter": "python",
   "pygments_lexer": "ipython3",
   "version": "3.8.10"
  }
 },
 "nbformat": 4,
 "nbformat_minor": 5
}
