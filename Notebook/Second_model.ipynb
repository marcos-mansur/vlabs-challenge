{
 "cells": [
  {
   "cell_type": "code",
   "execution_count": 1,
   "id": "779e0884",
   "metadata": {},
   "outputs": [],
   "source": [
    "import pandas as pd\n",
    "import numpy as np\n",
    "import matplotlib.pyplot as plt"
   ]
  },
  {
   "cell_type": "code",
   "execution_count": 2,
   "id": "ada2668a",
   "metadata": {},
   "outputs": [],
   "source": [
    "data_path = 'C:/Users/ticom/VLabs/Data'\n",
    "df = pd.read_csv(data_path+'/sales_20_21_train.csv', header=0, parse_dates=['DT_VENDA'])\n",
    "df_sub = pd.read_csv(data_path+'/sample_submission.csv',header=0)"
   ]
  },
  {
   "cell_type": "markdown",
   "id": "91d5691d",
   "metadata": {},
   "source": [
    "# Prophet"
   ]
  },
  {
   "cell_type": "code",
   "execution_count": null,
   "id": "ea345bc5",
   "metadata": {},
   "outputs": [],
   "source": [
    "model= Prophet(**model_params)\n",
    "data['cap']=data['y'].max() + data['y'].std()*0.05"
   ]
  },
  {
   "cell_type": "code",
   "execution_count": null,
   "id": "13d87e13",
   "metadata": {},
   "outputs": [],
   "source": [
    "model_params = {'daily_seasonality':False,\n",
    "               'weekly_seasonality':False,\n",
    "               'yearly_seasonality': True,\n",
    "               'seasonality_mode':'multiplicative',\n",
    "               'growth':'logistic'}"
   ]
  },
  {
   "cell_type": "code",
   "execution_count": 32,
   "id": "02714215",
   "metadata": {},
   "outputs": [
    {
     "ename": "SyntaxError",
     "evalue": "unexpected character after line continuation character (Temp/ipykernel_2296/1581457418.py, line 2)",
     "output_type": "error",
     "traceback": [
      "\u001b[1;36m  File \u001b[1;32m\"C:\\Users\\ticom\\AppData\\Local\\Temp/ipykernel_2296/1581457418.py\"\u001b[1;36m, line \u001b[1;32m2\u001b[0m\n\u001b[1;33m    data['cap']=data['y'] \\\u001b[0m\n\u001b[1;37m                            ^\u001b[0m\n\u001b[1;31mSyntaxError\u001b[0m\u001b[1;31m:\u001b[0m unexpected character after line continuation character\n"
     ]
    }
   ],
   "source": [
    "model= Prophet(**model_params)\n",
    "data['cap']=data['y'].max() + data['y'].std()*0.05\n",
    "\n",
    "model.fit(data)"
   ]
  },
  {
   "cell_type": "code",
   "execution_count": null,
   "id": "5b9f6f0f",
   "metadata": {},
   "outputs": [],
   "source": [
    "future = model.make_future_dataframe(periods=90)\n",
    "future['cap'] = min(data['cap'].max()*2,150)\n",
    "\n",
    "forecast = model.predict(future)"
   ]
  },
  {
   "cell_type": "code",
   "execution_count": null,
   "id": "e9586ac8",
   "metadata": {},
   "outputs": [],
   "source": [
    "# Prophet\n",
    "\n",
    "model= Prophet(**model_params)\n",
    "data['cap']=data['y'].max() + data['y'].std()*0.05\n",
    "\n",
    "model_params = {'daily_seasonality':False,\n",
    "               'weekly_seasonality':False,\n",
    "               'yearly_seasonality': True,\n",
    "               'seasonality_mode':'multiplicative',\n",
    "               'growth':'logistic'}\n",
    "\n",
    "model= Prophet(**model_params)\n",
    "data['cap']=data['y'].max() + data['y'].std()*0.05\n",
    "\n",
    "model.fit(data)\n",
    "\n",
    "future = model.make_future_dataframe(periods=90)\n",
    "future['cap'] = min(data['cap'].max()*2,150)\n",
    "\n",
    "forecast = model.predict(future)"
   ]
  }
 ],
 "metadata": {
  "kernelspec": {
   "display_name": "Python 3 (ipykernel)",
   "language": "python",
   "name": "python3"
  },
  "language_info": {
   "codemirror_mode": {
    "name": "ipython",
    "version": 3
   },
   "file_extension": ".py",
   "mimetype": "text/x-python",
   "name": "python",
   "nbconvert_exporter": "python",
   "pygments_lexer": "ipython3",
   "version": "3.8.10"
  }
 },
 "nbformat": 4,
 "nbformat_minor": 5
}
