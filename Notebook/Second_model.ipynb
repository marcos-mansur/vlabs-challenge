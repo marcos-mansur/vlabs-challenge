{
 "cells": [
  {
   "cell_type": "code",
   "execution_count": 7,
   "id": "779e0884",
   "metadata": {},
   "outputs": [
    {
     "name": "stderr",
     "output_type": "stream",
     "text": [
      "Importing plotly failed. Interactive plots will not work.\n"
     ]
    }
   ],
   "source": [
    "import pandas as pd\n",
    "import numpy as np\n",
    "import matplotlib.pyplot as plt\n",
    "from prophet import Prophet"
   ]
  },
  {
   "cell_type": "markdown",
   "id": "ae31c999",
   "metadata": {},
   "source": [
    "# Load Data"
   ]
  },
  {
   "cell_type": "code",
   "execution_count": 2,
   "id": "ada2668a",
   "metadata": {},
   "outputs": [],
   "source": [
    "data_path = 'C:/Users/ticom/VLabs/Data'\n",
    "df = pd.read_csv(data_path+'/sales_20_21_train.csv', header=0, parse_dates=['DT_VENDA'])\n",
    "# df = pd.read_csv('https://raw.githubusercontent.com/marcos-mansur/vlabs-challenge/main/Data/sales_20_21_train.csv', header=0, parse_dates=['DT_VENDA'])\n",
    "df_sub = pd.read_csv(data_path+'/sample_submission.csv',header=0)"
   ]
  },
  {
   "cell_type": "code",
   "execution_count": 23,
   "id": "1bf75e33",
   "metadata": {},
   "outputs": [
    {
     "data": {
      "text/html": [
       "<div>\n",
       "<style scoped>\n",
       "    .dataframe tbody tr th:only-of-type {\n",
       "        vertical-align: middle;\n",
       "    }\n",
       "\n",
       "    .dataframe tbody tr th {\n",
       "        vertical-align: top;\n",
       "    }\n",
       "\n",
       "    .dataframe thead th {\n",
       "        text-align: right;\n",
       "    }\n",
       "</style>\n",
       "<table border=\"1\" class=\"dataframe\">\n",
       "  <thead>\n",
       "    <tr style=\"text-align: right;\">\n",
       "      <th></th>\n",
       "      <th>ID_VENDA</th>\n",
       "      <th>DT_VENDA</th>\n",
       "      <th>LOJA</th>\n",
       "      <th>QTD_SKU</th>\n",
       "      <th>VALOR</th>\n",
       "      <th>ID_CLIENTE</th>\n",
       "      <th>CANAL</th>\n",
       "    </tr>\n",
       "  </thead>\n",
       "  <tbody>\n",
       "    <tr>\n",
       "      <th>0</th>\n",
       "      <td>1176550</td>\n",
       "      <td>2020-01-02</td>\n",
       "      <td>37</td>\n",
       "      <td>1</td>\n",
       "      <td>9.50</td>\n",
       "      <td>337763</td>\n",
       "      <td>FIS</td>\n",
       "    </tr>\n",
       "    <tr>\n",
       "      <th>1</th>\n",
       "      <td>11683461</td>\n",
       "      <td>2020-01-02</td>\n",
       "      <td>15</td>\n",
       "      <td>1</td>\n",
       "      <td>6.64</td>\n",
       "      <td>195687</td>\n",
       "      <td>FIS</td>\n",
       "    </tr>\n",
       "    <tr>\n",
       "      <th>2</th>\n",
       "      <td>3326484</td>\n",
       "      <td>2020-01-02</td>\n",
       "      <td>29</td>\n",
       "      <td>5</td>\n",
       "      <td>446.87</td>\n",
       "      <td>56059</td>\n",
       "      <td>FIS</td>\n",
       "    </tr>\n",
       "    <tr>\n",
       "      <th>3</th>\n",
       "      <td>7317475</td>\n",
       "      <td>2020-01-02</td>\n",
       "      <td>18</td>\n",
       "      <td>1</td>\n",
       "      <td>6.13</td>\n",
       "      <td>297533</td>\n",
       "      <td>FIS</td>\n",
       "    </tr>\n",
       "    <tr>\n",
       "      <th>4</th>\n",
       "      <td>4366938</td>\n",
       "      <td>2020-01-02</td>\n",
       "      <td>23</td>\n",
       "      <td>1</td>\n",
       "      <td>13.17</td>\n",
       "      <td>181284</td>\n",
       "      <td>FIS</td>\n",
       "    </tr>\n",
       "  </tbody>\n",
       "</table>\n",
       "</div>"
      ],
      "text/plain": [
       "   ID_VENDA   DT_VENDA  LOJA  QTD_SKU   VALOR  ID_CLIENTE CANAL\n",
       "0   1176550 2020-01-02    37        1    9.50      337763   FIS\n",
       "1  11683461 2020-01-02    15        1    6.64      195687   FIS\n",
       "2   3326484 2020-01-02    29        5  446.87       56059   FIS\n",
       "3   7317475 2020-01-02    18        1    6.13      297533   FIS\n",
       "4   4366938 2020-01-02    23        1   13.17      181284   FIS"
      ]
     },
     "execution_count": 23,
     "metadata": {},
     "output_type": "execute_result"
    }
   ],
   "source": [
    "df.head()"
   ]
  },
  {
   "cell_type": "code",
   "execution_count": 26,
   "id": "f436a8e1",
   "metadata": {},
   "outputs": [
    {
     "data": {
      "text/html": [
       "<div>\n",
       "<style scoped>\n",
       "    .dataframe tbody tr th:only-of-type {\n",
       "        vertical-align: middle;\n",
       "    }\n",
       "\n",
       "    .dataframe tbody tr th {\n",
       "        vertical-align: top;\n",
       "    }\n",
       "\n",
       "    .dataframe thead th {\n",
       "        text-align: right;\n",
       "    }\n",
       "</style>\n",
       "<table border=\"1\" class=\"dataframe\">\n",
       "  <thead>\n",
       "    <tr style=\"text-align: right;\">\n",
       "      <th></th>\n",
       "      <th>ID_VENDA</th>\n",
       "      <th>DT_VENDA</th>\n",
       "      <th>LOJA</th>\n",
       "      <th>QTD_SKU</th>\n",
       "      <th>VALOR</th>\n",
       "      <th>ID_CLIENTE</th>\n",
       "      <th>CANAL</th>\n",
       "    </tr>\n",
       "  </thead>\n",
       "  <tbody>\n",
       "    <tr>\n",
       "      <th>51392</th>\n",
       "      <td>3057916</td>\n",
       "      <td>2020-01-17</td>\n",
       "      <td>28</td>\n",
       "      <td>1</td>\n",
       "      <td>0.49</td>\n",
       "      <td>137298</td>\n",
       "      <td>FIS</td>\n",
       "    </tr>\n",
       "    <tr>\n",
       "      <th>1235311</th>\n",
       "      <td>756345</td>\n",
       "      <td>2020-11-27</td>\n",
       "      <td>45</td>\n",
       "      <td>3</td>\n",
       "      <td>12.94</td>\n",
       "      <td>137298</td>\n",
       "      <td>FIS</td>\n",
       "    </tr>\n",
       "    <tr>\n",
       "      <th>1287720</th>\n",
       "      <td>975766</td>\n",
       "      <td>2020-12-09</td>\n",
       "      <td>45</td>\n",
       "      <td>18</td>\n",
       "      <td>237.10</td>\n",
       "      <td>137298</td>\n",
       "      <td>FIS</td>\n",
       "    </tr>\n",
       "    <tr>\n",
       "      <th>1404365</th>\n",
       "      <td>1154109</td>\n",
       "      <td>2021-01-05</td>\n",
       "      <td>45</td>\n",
       "      <td>3</td>\n",
       "      <td>10.76</td>\n",
       "      <td>137298</td>\n",
       "      <td>FIS</td>\n",
       "    </tr>\n",
       "  </tbody>\n",
       "</table>\n",
       "</div>"
      ],
      "text/plain": [
       "         ID_VENDA   DT_VENDA  LOJA  QTD_SKU   VALOR  ID_CLIENTE CANAL\n",
       "51392     3057916 2020-01-17    28        1    0.49      137298   FIS\n",
       "1235311    756345 2020-11-27    45        3   12.94      137298   FIS\n",
       "1287720    975766 2020-12-09    45       18  237.10      137298   FIS\n",
       "1404365   1154109 2021-01-05    45        3   10.76      137298   FIS"
      ]
     },
     "execution_count": 26,
     "metadata": {},
     "output_type": "execute_result"
    }
   ],
   "source": [
    "df[df['ID_CLIENTE']==137298]"
   ]
  },
  {
   "cell_type": "code",
   "execution_count": 25,
   "id": "3a63a6a2",
   "metadata": {},
   "outputs": [
    {
     "data": {
      "text/html": [
       "<div>\n",
       "<style scoped>\n",
       "    .dataframe tbody tr th:only-of-type {\n",
       "        vertical-align: middle;\n",
       "    }\n",
       "\n",
       "    .dataframe tbody tr th {\n",
       "        vertical-align: top;\n",
       "    }\n",
       "\n",
       "    .dataframe thead th {\n",
       "        text-align: right;\n",
       "    }\n",
       "</style>\n",
       "<table border=\"1\" class=\"dataframe\">\n",
       "  <thead>\n",
       "    <tr style=\"text-align: right;\">\n",
       "      <th></th>\n",
       "      <th>ID_VENDA</th>\n",
       "      <th>DT_VENDA</th>\n",
       "      <th>LOJA</th>\n",
       "      <th>QTD_SKU</th>\n",
       "      <th>VALOR</th>\n",
       "      <th>ID_CLIENTE</th>\n",
       "      <th>CANAL</th>\n",
       "    </tr>\n",
       "  </thead>\n",
       "  <tbody>\n",
       "    <tr>\n",
       "      <th>1034087</th>\n",
       "      <td>6168546</td>\n",
       "      <td>2020-10-20</td>\n",
       "      <td>0</td>\n",
       "      <td>2</td>\n",
       "      <td>0.05</td>\n",
       "      <td>136746</td>\n",
       "      <td>ECM</td>\n",
       "    </tr>\n",
       "  </tbody>\n",
       "</table>\n",
       "</div>"
      ],
      "text/plain": [
       "         ID_VENDA   DT_VENDA  LOJA  QTD_SKU  VALOR  ID_CLIENTE CANAL\n",
       "1034087   6168546 2020-10-20     0        2   0.05      136746   ECM"
      ]
     },
     "execution_count": 25,
     "metadata": {},
     "output_type": "execute_result"
    }
   ],
   "source": [
    "df[df['ID_CLIENTE']==136746]"
   ]
  },
  {
   "cell_type": "markdown",
   "id": "c3c9005b",
   "metadata": {},
   "source": [
    "# Preprocessing"
   ]
  },
  {
   "cell_type": "code",
   "execution_count": 19,
   "id": "1ee67013",
   "metadata": {},
   "outputs": [],
   "source": [
    "def treated_data(df_pp):\n",
    "    max_date = df_pp['DT_VENDA'].max()\n",
    "    \n",
    "    #agrupar por cliente somando o valor\n",
    "    cust_revenue = df_pp.groupby(['ID_CLIENTE'])['VALOR'].sum().copy()\n",
    "    #ordenar por data\n",
    "    cust_revenue.sort_values(ascending=False, inplace=True)\n",
    "    # transformar em df\n",
    "    cust_rev = pd.DataFrame(cust_revenue)\n",
    "    # feature com número de compras feitas no período de teste\n",
    "    cust_rev['n_compras'] = df_pp.groupby(['ID_CLIENTE'])['ID_VENDA'].count()\n",
    "    # std entre os valores das compras de cada cliente\n",
    "    cust_rev['std entre compras'] = df_pp.groupby('ID_CLIENTE')['VALOR'].std()\n",
    "    # preenche NAN com 0\n",
    "    #cust_rev['std entre compras'] = cust_rev['std entre compras'].fillna(0)\n",
    "    # meadia entre os valores das compras de cada cliente\n",
    "    cust_rev['valor medio'] = df_pp.groupby('ID_CLIENTE')['VALOR'].mean()\n",
    "    \n",
    "    # diferença entre a data da primeira e ultima compra\n",
    "    cust_rev['periodo_compras'] = df_pp.groupby(['ID_CLIENTE'])['DT_VENDA'].max() - df_pp.groupby(['ID_CLIENTE'])['DT_VENDA'].min()\n",
    "    cust_rev['periodo_compras'] = cust_rev['periodo_compras'].apply(lambda x: x.days)\n",
    "    # data da ultima compra\n",
    "    cust_rev['ultima compra'] = max_date - df_pp.groupby(['ID_CLIENTE'])['DT_VENDA'].max()\n",
    "    cust_rev['ultima compra'] = cust_rev['ultima compra'].apply(lambda x: x.days)\n",
    "    # soma do VALOR dos ultimos 3 meses de cada cliente\n",
    "    cust_rev['valor_3m'] = df_pp[\n",
    "            df_pp['DT_VENDA']>(df_pp['DT_VENDA'].max() -pd.to_timedelta(90, unit='d'))\n",
    "            ].groupby(['ID_CLIENTE'])['VALOR'].sum()\n",
    "    \n",
    "    return cust_rev.fillna(0)"
   ]
  },
  {
   "cell_type": "code",
   "execution_count": 16,
   "id": "d948133f",
   "metadata": {},
   "outputs": [],
   "source": [
    "data = df[['ID_CLIENTE','VALOR']].groupby(['ID_CLIENTE'])['VALOR'].sum()"
   ]
  },
  {
   "cell_type": "code",
   "execution_count": 17,
   "id": "dd5909d3",
   "metadata": {},
   "outputs": [
    {
     "data": {
      "text/plain": [
       "ID_CLIENTE\n",
       "0     636.29\n",
       "2     662.26\n",
       "3     215.06\n",
       "4    1271.87\n",
       "5      47.19\n",
       "Name: VALOR, dtype: float64"
      ]
     },
     "execution_count": 17,
     "metadata": {},
     "output_type": "execute_result"
    }
   ],
   "source": [
    "data.head()"
   ]
  }
 ],
 "metadata": {
  "kernelspec": {
   "display_name": "Python 3 (ipykernel)",
   "language": "python",
   "name": "python3"
  },
  "language_info": {
   "codemirror_mode": {
    "name": "ipython",
    "version": 3
   },
   "file_extension": ".py",
   "mimetype": "text/x-python",
   "name": "python",
   "nbconvert_exporter": "python",
   "pygments_lexer": "ipython3",
   "version": "3.8.10"
  }
 },
 "nbformat": 4,
 "nbformat_minor": 5
}
