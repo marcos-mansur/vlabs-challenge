{
 "cells": [
  {
   "cell_type": "code",
   "execution_count": 245,
   "id": "779e0884",
   "metadata": {},
   "outputs": [],
   "source": [
    "import pandas as pd\n",
    "import numpy as np\n",
    "import matplotlib.pyplot as plt\n",
    "from sklearn.model_selection import cross_val_score, train_test_split, learning_curve\n",
    "from sklearn.metrics import mean_squared_error\n",
    "from sklearn.linear_model import LinearRegression, ElasticNet\n",
    "from sklearn.ensemble import RandomForestRegressor \n",
    "from lightgbm import LGBMRegressor"
   ]
  },
  {
   "cell_type": "markdown",
   "id": "47e6c8c7",
   "metadata": {},
   "source": [
    "# Load Data"
   ]
  },
  {
   "cell_type": "code",
   "execution_count": 210,
   "id": "ada2668a",
   "metadata": {},
   "outputs": [],
   "source": [
    "data_path = 'C:/Users/ticom/VLabs/Data'\n",
    "df = pd.read_csv(data_path+'/sales_20_21_train.csv', header=0, parse_dates=['DT_VENDA'])\n",
    "# df = pd.read_csv('https://raw.githubusercontent.com/marcos-mansur/vlabs-challenge/main/Data/sales_20_21_train.csv', header=0, parse_dates=['DT_VENDA'])\n",
    "df_sub = pd.read_csv(data_path+'/sample_submission.csv',header=0)"
   ]
  },
  {
   "cell_type": "markdown",
   "id": "eb2c586d",
   "metadata": {},
   "source": [
    "# Plot Funcs"
   ]
  },
  {
   "cell_type": "code",
   "execution_count": 207,
   "id": "f1891e05",
   "metadata": {},
   "outputs": [],
   "source": [
    "def plot_learning_curve(estimator, title, X, y, axes=None, ylim=None, cv=None,\n",
    "                        n_jobs=None, train_sizes=np.linspace(.1, 1.0, 5)):\n",
    "    \"\"\"\n",
    "    Generate plot: learning curve\n",
    "\n",
    "    \"\"\"\n",
    "    if axes is None:\n",
    "        _, axes = plt.subplots(1, figsize=(20, 10))\n",
    "\n",
    "    axes.set_title(title)\n",
    "    if ylim is not None:\n",
    "        axes.set_ylim(*ylim)\n",
    "    axes.set_xlabel(\"Training examples\")\n",
    "    axes.set_ylabel(\"Score\")\n",
    "\n",
    "    train_sizes, train_scores, test_scores, fit_times, _ = \\\n",
    "        learning_curve(estimator, X, y, cv=cv, n_jobs=n_jobs,\n",
    "                       train_sizes=train_sizes, scoring='neg_root_mean_squared_error',\n",
    "                       return_times=True)\n",
    "    train_scores_mean = np.mean(train_scores, axis=1)\n",
    "    train_scores_std = np.std(train_scores, axis=1)\n",
    "    test_scores_mean = np.mean(test_scores, axis=1)\n",
    "    test_scores_std = np.std(test_scores, axis=1)\n",
    "    fit_times_mean = np.mean(fit_times, axis=1)\n",
    "    fit_times_std = np.std(fit_times, axis=1)\n",
    "\n",
    "    # Plot learning curve\n",
    "    axes.grid()\n",
    "    # intervalos de spread \n",
    "    axes.fill_between(train_sizes, train_scores_mean - train_scores_std,\n",
    "                         train_scores_mean + train_scores_std, alpha=0.1,\n",
    "                         color=\"r\")\n",
    "    axes.fill_between(train_sizes, test_scores_mean - test_scores_std,\n",
    "                         test_scores_mean + test_scores_std, alpha=0.1,\n",
    "                         color=\"g\")\n",
    "    # curvas\n",
    "    axes.plot(train_sizes, train_scores_mean, 'o-', color=\"r\",\n",
    "                 label=\"Training score\")\n",
    "    axes.plot(train_sizes, test_scores_mean, 'o-', color=\"g\",\n",
    "                 label=\"Cross-validation score\")\n",
    "    axes.legend(loc=\"best\")\n",
    "    return plt"
   ]
  },
  {
   "cell_type": "markdown",
   "id": "132c7b37",
   "metadata": {},
   "source": [
    "# Estratégia"
   ]
  },
  {
   "cell_type": "markdown",
   "id": "24e0403e",
   "metadata": {},
   "source": [
    "Temos dados de janeiro de 2020 até 24 de fevereiro de 2021 e precisamos prever o quanto cada cliente gastará nos próximos 90 dias. Vamos treinar o modelo com os dados de 180 dias e usaremos os valores dos ultimos 90 dias como target do treinamento.\n",
    "\n",
    "Usaremos o conceito de RFM score, que é sigla para Recency, Frequency and Monetary value como features, além de criar clusters desses quesitos. O valor previsto pelo modelo de time series do thiago utilizando apenas o padrão de compras de cada cliente também será incorporado como uma feature."
   ]
  },
  {
   "cell_type": "code",
   "execution_count": 211,
   "id": "79e2b057",
   "metadata": {},
   "outputs": [],
   "source": [
    "# intervalo de 90 dias\n",
    "delta90 = pd.to_timedelta(90,unit='d')\n",
    "# data mais recente do dataset\n",
    "max_date = df['DT_VENDA'].max()\n",
    "# data de início do target\n",
    "target_start = max_date - delta90\n",
    "# data de início dos dados de treino\n",
    "train_start = target_start - 2*delta90\n",
    "# data de início dos dados de previsão (submissão)\n",
    "sub_start = max_date - 2*delta90"
   ]
  },
  {
   "cell_type": "code",
   "execution_count": 212,
   "id": "653f4261",
   "metadata": {},
   "outputs": [
    {
     "name": "stdout",
     "output_type": "stream",
     "text": [
      "Início dos dados de treino:  2020-05-30 00:00:00\n",
      "Fim dos dados de treino e início do target do treino:  2020-11-26 00:00:00\n",
      "Início dos dados da previsão:  2020-08-28 00:00:00\n",
      "Data de fim dos dados de previsão e início do target da previsão:  2021-02-24 00:00:00\n",
      "Data de fim do target da previsão:  2021-05-25 00:00:00\n"
     ]
    }
   ],
   "source": [
    "print('Início dos dados de treino: ',train_start)\n",
    "print('Fim dos dados de treino e início do target do treino: ',target_start)\n",
    "print('Início dos dados da previsão: ',sub_start)\n",
    "print('Data de fim dos dados de previsão e início do target da previsão: ', max_date)\n",
    "print('Data de fim do target da previsão: ', max_date + delta90)"
   ]
  },
  {
   "cell_type": "code",
   "execution_count": 213,
   "id": "b9363757",
   "metadata": {},
   "outputs": [],
   "source": [
    "def set_dates(df,train_start,target_start, sub_start):\n",
    "    # target do treinamento\n",
    "    df_target = df[df.DT_VENDA > target_start]\n",
    "    y_train = df_target.groupby('ID_CLIENTE')['VALOR'].sum()\n",
    "    # dados de treinamento\n",
    "    df_train = df[(df['DT_VENDA']>train_start) & (df['DT_VENDA']<target_start)].copy()\n",
    "    # dados para previsão\n",
    "    df_test = df[df['DT_VENDA']>sub_start]\n",
    "    return df_train, y_train, df_test"
   ]
  },
  {
   "cell_type": "code",
   "execution_count": 214,
   "id": "2770e7bc",
   "metadata": {},
   "outputs": [],
   "source": [
    "df_train, target_train, df_test = set_dates(df,train_start,target_start,sub_start)"
   ]
  },
  {
   "cell_type": "code",
   "execution_count": 215,
   "id": "5fe6aba0",
   "metadata": {},
   "outputs": [
    {
     "data": {
      "text/html": [
       "<div>\n",
       "<style scoped>\n",
       "    .dataframe tbody tr th:only-of-type {\n",
       "        vertical-align: middle;\n",
       "    }\n",
       "\n",
       "    .dataframe tbody tr th {\n",
       "        vertical-align: top;\n",
       "    }\n",
       "\n",
       "    .dataframe thead th {\n",
       "        text-align: right;\n",
       "    }\n",
       "</style>\n",
       "<table border=\"1\" class=\"dataframe\">\n",
       "  <thead>\n",
       "    <tr style=\"text-align: right;\">\n",
       "      <th></th>\n",
       "      <th>ID_VENDA</th>\n",
       "      <th>DT_VENDA</th>\n",
       "      <th>LOJA</th>\n",
       "      <th>QTD_SKU</th>\n",
       "      <th>VALOR</th>\n",
       "      <th>ID_CLIENTE</th>\n",
       "      <th>CANAL</th>\n",
       "    </tr>\n",
       "  </thead>\n",
       "  <tbody>\n",
       "    <tr>\n",
       "      <th>531256</th>\n",
       "      <td>8943470</td>\n",
       "      <td>2020-05-31</td>\n",
       "      <td>14</td>\n",
       "      <td>2</td>\n",
       "      <td>59.12</td>\n",
       "      <td>318250</td>\n",
       "      <td>FIS</td>\n",
       "    </tr>\n",
       "    <tr>\n",
       "      <th>531257</th>\n",
       "      <td>8943432</td>\n",
       "      <td>2020-05-31</td>\n",
       "      <td>14</td>\n",
       "      <td>1</td>\n",
       "      <td>15.24</td>\n",
       "      <td>187376</td>\n",
       "      <td>FIS</td>\n",
       "    </tr>\n",
       "    <tr>\n",
       "      <th>531258</th>\n",
       "      <td>8941571</td>\n",
       "      <td>2020-05-31</td>\n",
       "      <td>14</td>\n",
       "      <td>2</td>\n",
       "      <td>18.97</td>\n",
       "      <td>231021</td>\n",
       "      <td>FIS</td>\n",
       "    </tr>\n",
       "    <tr>\n",
       "      <th>531259</th>\n",
       "      <td>8943052</td>\n",
       "      <td>2020-05-31</td>\n",
       "      <td>14</td>\n",
       "      <td>5</td>\n",
       "      <td>54.09</td>\n",
       "      <td>53619</td>\n",
       "      <td>FIS</td>\n",
       "    </tr>\n",
       "    <tr>\n",
       "      <th>531260</th>\n",
       "      <td>8943014</td>\n",
       "      <td>2020-05-31</td>\n",
       "      <td>14</td>\n",
       "      <td>6</td>\n",
       "      <td>29.00</td>\n",
       "      <td>337106</td>\n",
       "      <td>FIS</td>\n",
       "    </tr>\n",
       "  </tbody>\n",
       "</table>\n",
       "</div>"
      ],
      "text/plain": [
       "        ID_VENDA   DT_VENDA  LOJA  QTD_SKU  VALOR  ID_CLIENTE CANAL\n",
       "531256   8943470 2020-05-31    14        2  59.12      318250   FIS\n",
       "531257   8943432 2020-05-31    14        1  15.24      187376   FIS\n",
       "531258   8941571 2020-05-31    14        2  18.97      231021   FIS\n",
       "531259   8943052 2020-05-31    14        5  54.09       53619   FIS\n",
       "531260   8943014 2020-05-31    14        6  29.00      337106   FIS"
      ]
     },
     "execution_count": 215,
     "metadata": {},
     "output_type": "execute_result"
    }
   ],
   "source": [
    "df_train.head()"
   ]
  },
  {
   "cell_type": "code",
   "execution_count": 216,
   "id": "69191042",
   "metadata": {},
   "outputs": [
    {
     "data": {
      "text/plain": [
       "ID_CLIENTE\n",
       "0     369.35\n",
       "2     235.81\n",
       "4     557.22\n",
       "9      31.27\n",
       "12    286.92\n",
       "Name: VALOR, dtype: float64"
      ]
     },
     "execution_count": 216,
     "metadata": {},
     "output_type": "execute_result"
    }
   ],
   "source": [
    "target_train.head()"
   ]
  },
  {
   "cell_type": "code",
   "execution_count": 217,
   "id": "1a4e4850",
   "metadata": {},
   "outputs": [
    {
     "data": {
      "text/html": [
       "<div>\n",
       "<style scoped>\n",
       "    .dataframe tbody tr th:only-of-type {\n",
       "        vertical-align: middle;\n",
       "    }\n",
       "\n",
       "    .dataframe tbody tr th {\n",
       "        vertical-align: top;\n",
       "    }\n",
       "\n",
       "    .dataframe thead th {\n",
       "        text-align: right;\n",
       "    }\n",
       "</style>\n",
       "<table border=\"1\" class=\"dataframe\">\n",
       "  <thead>\n",
       "    <tr style=\"text-align: right;\">\n",
       "      <th></th>\n",
       "      <th>ID_VENDA</th>\n",
       "      <th>DT_VENDA</th>\n",
       "      <th>LOJA</th>\n",
       "      <th>QTD_SKU</th>\n",
       "      <th>VALOR</th>\n",
       "      <th>ID_CLIENTE</th>\n",
       "      <th>CANAL</th>\n",
       "    </tr>\n",
       "  </thead>\n",
       "  <tbody>\n",
       "    <tr>\n",
       "      <th>804773</th>\n",
       "      <td>8517549</td>\n",
       "      <td>2020-08-29</td>\n",
       "      <td>5</td>\n",
       "      <td>9</td>\n",
       "      <td>126.21</td>\n",
       "      <td>320267</td>\n",
       "      <td>FIS</td>\n",
       "    </tr>\n",
       "    <tr>\n",
       "      <th>804774</th>\n",
       "      <td>698039</td>\n",
       "      <td>2020-08-29</td>\n",
       "      <td>46</td>\n",
       "      <td>1</td>\n",
       "      <td>11.18</td>\n",
       "      <td>307421</td>\n",
       "      <td>FIS</td>\n",
       "    </tr>\n",
       "    <tr>\n",
       "      <th>804775</th>\n",
       "      <td>1531940</td>\n",
       "      <td>2020-08-29</td>\n",
       "      <td>42</td>\n",
       "      <td>3</td>\n",
       "      <td>95.29</td>\n",
       "      <td>205797</td>\n",
       "      <td>FIS</td>\n",
       "    </tr>\n",
       "    <tr>\n",
       "      <th>804776</th>\n",
       "      <td>11092447</td>\n",
       "      <td>2020-08-29</td>\n",
       "      <td>4</td>\n",
       "      <td>5</td>\n",
       "      <td>112.84</td>\n",
       "      <td>123068</td>\n",
       "      <td>FIS</td>\n",
       "    </tr>\n",
       "    <tr>\n",
       "      <th>804777</th>\n",
       "      <td>3340677</td>\n",
       "      <td>2020-08-29</td>\n",
       "      <td>33</td>\n",
       "      <td>5</td>\n",
       "      <td>66.60</td>\n",
       "      <td>274841</td>\n",
       "      <td>FIS</td>\n",
       "    </tr>\n",
       "  </tbody>\n",
       "</table>\n",
       "</div>"
      ],
      "text/plain": [
       "        ID_VENDA   DT_VENDA  LOJA  QTD_SKU   VALOR  ID_CLIENTE CANAL\n",
       "804773   8517549 2020-08-29     5        9  126.21      320267   FIS\n",
       "804774    698039 2020-08-29    46        1   11.18      307421   FIS\n",
       "804775   1531940 2020-08-29    42        3   95.29      205797   FIS\n",
       "804776  11092447 2020-08-29     4        5  112.84      123068   FIS\n",
       "804777   3340677 2020-08-29    33        5   66.60      274841   FIS"
      ]
     },
     "execution_count": 217,
     "metadata": {},
     "output_type": "execute_result"
    }
   ],
   "source": [
    "df_test.head()"
   ]
  },
  {
   "cell_type": "markdown",
   "id": "f0178d08",
   "metadata": {},
   "source": [
    "# Pré-processamento"
   ]
  },
  {
   "cell_type": "code",
   "execution_count": 218,
   "id": "04ee9b33",
   "metadata": {},
   "outputs": [],
   "source": [
    "def treated_data(df_pp):\n",
    "    max_date = df_pp['DT_VENDA'].max()\n",
    "    \n",
    "    #agrupar por cliente somando o valor\n",
    "    cust_revenue = df_pp.groupby(['ID_CLIENTE'])['VALOR'].sum().copy()\n",
    "    # transformar em df\n",
    "    cust_rev = pd.DataFrame(cust_revenue)\n",
    "    # feature com número de compras feitas no período de teste\n",
    "    cust_rev['Frequency'] = df_pp.groupby(['ID_CLIENTE'])['ID_VENDA'].count()\n",
    "    \n",
    "    # std entre os valores das compras de cada cliente\n",
    "    #cust_rev['std entre compras'] = df_pp.groupby('ID_CLIENTE')['VALOR'].std()\n",
    "    # diferença entre a data da primeira e ultima compra\n",
    "    #cust_rev['periodo_compras'] = df_pp.groupby(['ID_CLIENTE'])['DT_VENDA'].max() - df_pp.groupby(['ID_CLIENTE'])['DT_VENDA'].min()\n",
    "    #cust_rev['periodo_compras'] = cust_rev['periodo_compras'].apply(lambda x: x.days)\n",
    "\n",
    "    # meadia entre os valores das compras de cada cliente\n",
    "    #cust_rev['valor medio'] = df_pp.groupby('ID_CLIENTE')['VALOR'].mean()\n",
    "    \n",
    "    \n",
    "    # data da ultima compra\n",
    "    cust_rev['Recency'] = max_date - df_pp.groupby(['ID_CLIENTE'])['DT_VENDA'].max()\n",
    "    cust_rev['Recency'] = cust_rev['Recency'].apply(lambda x: x.days)\n",
    "    # soma do VALOR dos ultimos 3 meses de cada cliente\n",
    "    cust_rev['valor_3m'] = df_pp[\n",
    "            df_pp['DT_VENDA']>(df_pp['DT_VENDA'].max() - delta90)].groupby(['ID_CLIENTE'])['VALOR'].sum()\n",
    "    \n",
    "    return cust_rev.fillna(0)\n"
   ]
  },
  {
   "cell_type": "code",
   "execution_count": 219,
   "id": "717be59e",
   "metadata": {},
   "outputs": [],
   "source": [
    "df2_train = treated_data(df_train)\n",
    "df2_test = treated_data(df_test)"
   ]
  },
  {
   "cell_type": "code",
   "execution_count": 220,
   "id": "64f25b8f",
   "metadata": {},
   "outputs": [
    {
     "data": {
      "text/html": [
       "<div>\n",
       "<style scoped>\n",
       "    .dataframe tbody tr th:only-of-type {\n",
       "        vertical-align: middle;\n",
       "    }\n",
       "\n",
       "    .dataframe tbody tr th {\n",
       "        vertical-align: top;\n",
       "    }\n",
       "\n",
       "    .dataframe thead th {\n",
       "        text-align: right;\n",
       "    }\n",
       "</style>\n",
       "<table border=\"1\" class=\"dataframe\">\n",
       "  <thead>\n",
       "    <tr style=\"text-align: right;\">\n",
       "      <th></th>\n",
       "      <th>VALOR_sum</th>\n",
       "      <th>Frequency</th>\n",
       "      <th>Recency</th>\n",
       "      <th>valor_3m</th>\n",
       "      <th>VALOR_TARGET</th>\n",
       "    </tr>\n",
       "    <tr>\n",
       "      <th>ID_CLIENTE</th>\n",
       "      <th></th>\n",
       "      <th></th>\n",
       "      <th></th>\n",
       "      <th></th>\n",
       "      <th></th>\n",
       "    </tr>\n",
       "  </thead>\n",
       "  <tbody>\n",
       "    <tr>\n",
       "      <th>0</th>\n",
       "      <td>266.94</td>\n",
       "      <td>1</td>\n",
       "      <td>56</td>\n",
       "      <td>266.94</td>\n",
       "      <td>369.35</td>\n",
       "    </tr>\n",
       "    <tr>\n",
       "      <th>2</th>\n",
       "      <td>104.69</td>\n",
       "      <td>1</td>\n",
       "      <td>151</td>\n",
       "      <td>0.00</td>\n",
       "      <td>235.81</td>\n",
       "    </tr>\n",
       "    <tr>\n",
       "      <th>3</th>\n",
       "      <td>30.21</td>\n",
       "      <td>1</td>\n",
       "      <td>104</td>\n",
       "      <td>0.00</td>\n",
       "      <td>NaN</td>\n",
       "    </tr>\n",
       "    <tr>\n",
       "      <th>4</th>\n",
       "      <td>532.64</td>\n",
       "      <td>2</td>\n",
       "      <td>16</td>\n",
       "      <td>532.64</td>\n",
       "      <td>557.22</td>\n",
       "    </tr>\n",
       "    <tr>\n",
       "      <th>9</th>\n",
       "      <td>271.25</td>\n",
       "      <td>4</td>\n",
       "      <td>78</td>\n",
       "      <td>64.42</td>\n",
       "      <td>31.27</td>\n",
       "    </tr>\n",
       "  </tbody>\n",
       "</table>\n",
       "</div>"
      ],
      "text/plain": [
       "            VALOR_sum  Frequency  Recency  valor_3m  VALOR_TARGET\n",
       "ID_CLIENTE                                                       \n",
       "0              266.94          1       56    266.94        369.35\n",
       "2              104.69          1      151      0.00        235.81\n",
       "3               30.21          1      104      0.00           NaN\n",
       "4              532.64          2       16    532.64        557.22\n",
       "9              271.25          4       78     64.42         31.27"
      ]
     },
     "execution_count": 220,
     "metadata": {},
     "output_type": "execute_result"
    }
   ],
   "source": [
    "# juntando o dataset com o target para alinhar o index\n",
    "df3_train = df2_train.join(other=target_train, on='ID_CLIENTE', lsuffix='_sum', rsuffix='_TARGET')\n",
    "df3_train.head()"
   ]
  },
  {
   "cell_type": "code",
   "execution_count": 230,
   "id": "bbb7d45c",
   "metadata": {},
   "outputs": [],
   "source": [
    "x_train, x_test, y_train, y_test = train_test_split(df3_train.drop('VALOR_TARGET',axis=1),\n",
    "                                                    df3.VALOR_TARGET.fillna(0), \n",
    "                                                    random_state=0,\n",
    "                                                    test_size=0.3)"
   ]
  },
  {
   "cell_type": "markdown",
   "id": "7b244443",
   "metadata": {},
   "source": [
    "# Modelo "
   ]
  },
  {
   "cell_type": "markdown",
   "id": "8e3a33c1",
   "metadata": {},
   "source": [
    "## LinearReg"
   ]
  },
  {
   "cell_type": "code",
   "execution_count": 231,
   "id": "64c3737a",
   "metadata": {},
   "outputs": [
    {
     "data": {
      "text/plain": [
       "265.04349857520145"
      ]
     },
     "execution_count": 231,
     "metadata": {},
     "output_type": "execute_result"
    }
   ],
   "source": [
    "lr = LinearRegression()\n",
    "score = cross_val_score(lr, X=x_train, y=y_train, cv=5, scoring='neg_root_mean_squared_error')\n",
    "-score.mean()"
   ]
  },
  {
   "cell_type": "code",
   "execution_count": 292,
   "id": "f42f6f7f",
   "metadata": {},
   "outputs": [
    {
     "data": {
      "text/plain": [
       "262.12308215637864"
      ]
     },
     "execution_count": 292,
     "metadata": {},
     "output_type": "execute_result"
    }
   ],
   "source": [
    "lr.fit(x_train, y_train)\n",
    "pred_lr = lr.predict(x_test)\n",
    "score = mean_squared_error(y_test,pred_val, squared=False)\n",
    "score"
   ]
  },
  {
   "cell_type": "code",
   "execution_count": 242,
   "id": "a6dac9a5",
   "metadata": {},
   "outputs": [
    {
     "data": {
      "text/plain": [
       "<module 'matplotlib.pyplot' from 'C:\\\\Users\\\\ticom\\\\anaconda3\\\\lib\\\\site-packages\\\\matplotlib\\\\pyplot.py'>"
      ]
     },
     "execution_count": 242,
     "metadata": {},
     "output_type": "execute_result"
    },
    {
     "data": {
      "image/png": "[encoded data removed]",
      "text/plain": [
       "<Figure size 1440x720 with 1 Axes>"
      ]
     },
     "metadata": {
      "needs_background": "light"
     },
     "output_type": "display_data"
    }
   ],
   "source": [
    "title = \"Learning Curves - LinearReg\"\n",
    "plot_learning_curve(lr, title, x_train, y_train, cv=5, n_jobs=-1)"
   ]
  },
  {
   "cell_type": "markdown",
   "id": "793e194c",
   "metadata": {},
   "source": [
    "## ElasticNet"
   ]
  },
  {
   "cell_type": "code",
   "execution_count": 246,
   "id": "3d4aac3d",
   "metadata": {},
   "outputs": [
    {
     "data": {
      "text/plain": [
       "265.0392799271112"
      ]
     },
     "execution_count": 246,
     "metadata": {},
     "output_type": "execute_result"
    }
   ],
   "source": [
    "en = ElasticNet(random_state=0)\n",
    "score = cross_val_score(en, X=x_train, y=y_train, cv=5, scoring='neg_root_mean_squared_error')\n",
    "-score.mean()"
   ]
  },
  {
   "cell_type": "code",
   "execution_count": 249,
   "id": "3e0b4c58",
   "metadata": {},
   "outputs": [
    {
     "data": {
      "text/plain": [
       "262.12941191202344"
      ]
     },
     "execution_count": 249,
     "metadata": {},
     "output_type": "execute_result"
    }
   ],
   "source": [
    "en.fit(x_train, y_train)\n",
    "pred_val = en.predict(x_test)\n",
    "score = mean_squared_error(y_test,pred_val, squared=False)\n",
    "score"
   ]
  },
  {
   "cell_type": "code",
   "execution_count": 250,
   "id": "92782dc1",
   "metadata": {},
   "outputs": [
    {
     "data": {
      "text/plain": [
       "<module 'matplotlib.pyplot' from 'C:\\\\Users\\\\ticom\\\\anaconda3\\\\lib\\\\site-packages\\\\matplotlib\\\\pyplot.py'>"
      ]
     },
     "execution_count": 250,
     "metadata": {},
     "output_type": "execute_result"
    },
    {
     "data": {
      "image/png": "[encoded data removed]",
      "text/plain": [
       "<Figure size 1440x720 with 1 Axes>"
      ]
     },
     "metadata": {
      "needs_background": "light"
     },
     "output_type": "display_data"
    }
   ],
   "source": [
    "title = \"Learning Curves - ElasticNet Reg\"\n",
    "plot_learning_curve(en, title, x_train, y_train, cv=5, n_jobs=-1)"
   ]
  },
  {
   "cell_type": "markdown",
   "id": "57ff0faf",
   "metadata": {},
   "source": [
    "# Submissão"
   ]
  },
  {
   "cell_type": "code",
   "execution_count": 324,
   "id": "3934d3e1",
   "metadata": {},
   "outputs": [],
   "source": [
    "en_pred = en.predict(df2_test)\n",
    "en_pred_df = pd.DataFrame(en_pred, index=df2_test.index).reset_index()\n",
    "en_pred_df.columns = ['ID_CLIENTE', 'VALOR']"
   ]
  },
  {
   "cell_type": "code",
   "execution_count": 348,
   "id": "76d93d13",
   "metadata": {},
   "outputs": [],
   "source": [
    "sub4 = pd.DataFrame(df_sub['ID_CLIENTE']).set_index('ID_CLIENTE').join(en_pred_df.set_index('ID_CLIENTE'),\n",
    "                                           on='ID_CLIENTE')"
   ]
  },
  {
   "cell_type": "code",
   "execution_count": 354,
   "id": "d845a667",
   "metadata": {},
   "outputs": [
    {
     "data": {
      "text/plain": [
       "ID_CLIENTE       0\n",
       "VALOR         8400\n",
       "dtype: int64"
      ]
     },
     "execution_count": 354,
     "metadata": {},
     "output_type": "execute_result"
    }
   ],
   "source": [
    "sub4.reset_index().isna().sum()"
   ]
  },
  {
   "cell_type": "code",
   "execution_count": 355,
   "id": "e2a6e932",
   "metadata": {},
   "outputs": [],
   "source": [
    "sub4.reset_index().fillna(0).to_csv('C:/Users/ticom/VLabs/Submissions/sub4.csv', index=False)"
   ]
  }
 ],
 "metadata": {
  "kernelspec": {
   "display_name": "Python 3 (ipykernel)",
   "language": "python",
   "name": "python3"
  },
  "language_info": {
   "codemirror_mode": {
    "name": "ipython",
    "version": 3
   },
   "file_extension": ".py",
   "mimetype": "text/x-python",
   "name": "python",
   "nbconvert_exporter": "python",
   "pygments_lexer": "ipython3",
   "version": "3.8.10"
  }
 },
 "nbformat": 4,
 "nbformat_minor": 5
}
